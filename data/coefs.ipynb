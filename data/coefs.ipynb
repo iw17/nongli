{
 "cells": [
  {
   "cell_type": "markdown",
   "metadata": {},
   "source": [
    "# Coefficients & Residuals"
   ]
  },
  {
   "cell_type": "markdown",
   "metadata": {},
   "source": [
    "## 0. Meta"
   ]
  },
  {
   "cell_type": "code",
   "execution_count": 54,
   "metadata": {},
   "outputs": [],
   "source": [
    "import ctypes\n",
    "import os\n",
    "import time\n",
    "import typing as tp"
   ]
  },
  {
   "cell_type": "code",
   "execution_count": 55,
   "metadata": {},
   "outputs": [],
   "source": [
    "import numpy as np\n",
    "import pandas as pd\n",
    "from numpy.typing import NDArray"
   ]
  },
  {
   "cell_type": "code",
   "execution_count": 56,
   "metadata": {},
   "outputs": [],
   "source": [
    "UInt8s: tp.TypeAlias = NDArray[np.uint8]\n",
    "Int64s: tp.TypeAlias = NDArray[np.int64]\n",
    "Floats: tp.TypeAlias = NDArray[np.float64]"
   ]
  },
  {
   "cell_type": "code",
   "execution_count": 57,
   "metadata": {},
   "outputs": [
    {
     "name": "stdout",
     "output_type": "stream",
     "text": [
      "8 bytes in a pointer\n"
     ]
    }
   ],
   "source": [
    "PTR: int = ctypes.sizeof(ctypes.c_void_p)\n",
    "print(f'{PTR} bytes in a pointer')"
   ]
  },
  {
   "cell_type": "code",
   "execution_count": 58,
   "metadata": {},
   "outputs": [],
   "source": [
    "MIN: int = +1900\n",
    "MAX: int = +2199\n",
    "BPL: int = 12 # bytes per line\n",
    "LPA: int = 315 # lines per array"
   ]
  },
  {
   "cell_type": "code",
   "execution_count": 59,
   "metadata": {},
   "outputs": [],
   "source": [
    "t_begin: float = time.perf_counter()\n",
    "here: str = os.path.abspath('')\n",
    "csv_dir: str = os.path.join(here, 'build')\n",
    "lu_path: str = os.path.join(csv_dir, 'lunar.csv')\n",
    "so_path: str = os.path.join(csv_dir, 'solar.csv')\n",
    "hpp_dir: str = os.path.join(here, '..', 'fit')\n",
    "ex_path: str = os.path.join(hpp_dir, 'data.hpp')"
   ]
  },
  {
   "cell_type": "code",
   "execution_count": 60,
   "metadata": {},
   "outputs": [],
   "source": [
    "def int_frac(x: float) -> tuple[int, float]:\n",
    "    '''\n",
    "    Splits a float to integral and fractional parts.\n",
    "\n",
    "    Args:\n",
    "        x (float): input floating-point value\n",
    "    Returns:\n",
    "        int: the maximal integer `i <= x`\n",
    "        float: `x - i` in [0, 1)\n",
    "    '''\n",
    "\n",
    "    xi, xf = divmod(x, 1)\n",
    "    return int(xi), xf"
   ]
  },
  {
   "cell_type": "markdown",
   "metadata": {},
   "source": [
    "## 1. Lunar"
   ]
  },
  {
   "cell_type": "markdown",
   "metadata": {},
   "source": [
    "### 1.0. Data"
   ]
  },
  {
   "cell_type": "code",
   "execution_count": 61,
   "metadata": {},
   "outputs": [
    {
     "data": {
      "text/html": [
       "<div>\n",
       "<style scoped>\n",
       "    .dataframe tbody tr th:only-of-type {\n",
       "        vertical-align: middle;\n",
       "    }\n",
       "\n",
       "    .dataframe tbody tr th {\n",
       "        vertical-align: top;\n",
       "    }\n",
       "\n",
       "    .dataframe thead th {\n",
       "        text-align: right;\n",
       "    }\n",
       "</style>\n",
       "<table border=\"1\" class=\"dataframe\">\n",
       "  <thead>\n",
       "    <tr style=\"text-align: right;\">\n",
       "      <th></th>\n",
       "      <th>cyue</th>\n",
       "      <th>nian</th>\n",
       "      <th>ryue</th>\n",
       "      <th>usec</th>\n",
       "      <th>uday</th>\n",
       "    </tr>\n",
       "  </thead>\n",
       "  <tbody>\n",
       "    <tr>\n",
       "      <th>0</th>\n",
       "      <td>-86209</td>\n",
       "      <td>-5001</td>\n",
       "      <td>22</td>\n",
       "      <td>-219954231530</td>\n",
       "      <td>-2545767</td>\n",
       "    </tr>\n",
       "    <tr>\n",
       "      <th>1</th>\n",
       "      <td>-86208</td>\n",
       "      <td>-5001</td>\n",
       "      <td>24</td>\n",
       "      <td>-219951691034</td>\n",
       "      <td>-2545737</td>\n",
       "    </tr>\n",
       "    <tr>\n",
       "      <th>2</th>\n",
       "      <td>-86207</td>\n",
       "      <td>-5000</td>\n",
       "      <td>2</td>\n",
       "      <td>-219949157263</td>\n",
       "      <td>-2545708</td>\n",
       "    </tr>\n",
       "    <tr>\n",
       "      <th>3</th>\n",
       "      <td>-86206</td>\n",
       "      <td>-5000</td>\n",
       "      <td>4</td>\n",
       "      <td>-219946626852</td>\n",
       "      <td>-2545679</td>\n",
       "    </tr>\n",
       "    <tr>\n",
       "      <th>4</th>\n",
       "      <td>-86205</td>\n",
       "      <td>-5000</td>\n",
       "      <td>6</td>\n",
       "      <td>-219944096614</td>\n",
       "      <td>-2545649</td>\n",
       "    </tr>\n",
       "  </tbody>\n",
       "</table>\n",
       "</div>"
      ],
      "text/plain": [
       "    cyue  nian  ryue          usec     uday\n",
       "0 -86209 -5001    22 -219954231530 -2545767\n",
       "1 -86208 -5001    24 -219951691034 -2545737\n",
       "2 -86207 -5000     2 -219949157263 -2545708\n",
       "3 -86206 -5000     4 -219946626852 -2545679\n",
       "4 -86205 -5000     6 -219944096614 -2545649"
      ]
     },
     "execution_count": 61,
     "metadata": {},
     "output_type": "execute_result"
    }
   ],
   "source": [
    "lu_df: pd.DataFrame = pd.read_csv(lu_path)\n",
    "lu_va: pd.Series = lu_df['nian'].between(MIN, MAX)\n",
    "cyue: pd.Series = lu_df['cyue']\n",
    "lu_df['uday'] = (lu_df['usec'] + 28800) // 86400\n",
    "uday: pd.Series = lu_df['uday']\n",
    "lu_df.head()"
   ]
  },
  {
   "cell_type": "markdown",
   "metadata": {},
   "source": [
    "### 1.1. N2G: (`nian`, `ryue`) to `cyue` to `uday`"
   ]
  },
  {
   "cell_type": "markdown",
   "metadata": {},
   "source": [
    "#### 1.1.1. `nian` to `run`"
   ]
  },
  {
   "cell_type": "code",
   "execution_count": 62,
   "metadata": {},
   "outputs": [
    {
     "name": "stdout",
     "output_type": "stream",
     "text": [
      "5708 runs\n"
     ]
    }
   ],
   "source": [
    "nr_ryue: pd.Series = lu_df['ryue']\n",
    "nr_rn: pd.Series = (lu_df['ryue'] & 1).astype(np.bool)\n",
    "nr_nian: pd.Series = lu_df['nian'][nr_rn]\n",
    "nr_ry: pd.Series = nr_ryue[nr_rn] // 2\n",
    "nr_dc: dict[int, int] = dict(zip(nr_nian, nr_ry))\n",
    "print(f'{len(nr_dc)} runs')"
   ]
  },
  {
   "cell_type": "code",
   "execution_count": 63,
   "metadata": {},
   "outputs": [
    {
     "name": "stdout",
     "output_type": "stream",
     "text": [
      "156 bytes\n"
     ]
    }
   ],
   "source": [
    "NR_BIT, NR_IPB = 4, 2\n",
    "NR_IPL: int = NR_IPB * BPL\n",
    "nr_cnt_va: int = (MAX - MIN + 1) + (MIN - MAX - 1) % NR_IPL\n",
    "nr_ry_bt: list[int] = []\n",
    "for i in range(0, nr_cnt_va, NR_IPB):\n",
    "    bt: int = 0\n",
    "    for j in range(NR_IPB):\n",
    "        n: int = MIN + i + j\n",
    "        bt |= nr_dc.get(n, 13) << (j * NR_BIT)\n",
    "    nr_ry_bt.append(bt)\n",
    "nr_ry_np: UInt8s = np.array(nr_ry_bt, dtype=np.uint8)\n",
    "nr_ry_np = nr_ry_np.reshape((-1, BPL))\n",
    "nr_ry_ln: list[list[int]] = nr_ry_np.tolist()\n",
    "print(f'{len(nr_ry_bt)} bytes')"
   ]
  },
  {
   "cell_type": "markdown",
   "metadata": {},
   "source": [
    "#### 1.1.2. `nian` to `cyue`: linear (1-deg) regression"
   ]
  },
  {
   "cell_type": "code",
   "execution_count": 64,
   "metadata": {},
   "outputs": [
    {
     "name": "stdout",
     "output_type": "stream",
     "text": [
      "cyue = 12.368273905932465 * nian + -24365.550975329035\n"
     ]
    }
   ],
   "source": [
    "ny_va: pd.Series = lu_df['ryue'] == 2\n",
    "ny_nian: pd.Series = lu_df['nian'][ny_va]\n",
    "ny_dp01: pd.Series = lu_df['cyue'][ny_va]\n",
    "ny_coef: Floats = np.polyfit(x=ny_nian, y=ny_dp01, deg=1)\n",
    "ny_c1, ny_c0 = tp.cast(list[float], ny_coef.tolist())\n",
    "print(f'cyue = {ny_c1} * nian + {ny_c0}')"
   ]
  },
  {
   "cell_type": "code",
   "execution_count": 65,
   "metadata": {},
   "outputs": [
    {
     "name": "stdout",
     "output_type": "stream",
     "text": [
      "12 0.36827390593246534 -24366 0.4490246709647181\n"
     ]
    }
   ],
   "source": [
    "ny_c1i, ny_c1f = int_frac(ny_c1)\n",
    "ny_c0i, ny_c0f = int_frac(ny_c0)\n",
    "print(ny_c1i, ny_c1f, ny_c0i, ny_c0f)"
   ]
  },
  {
   "cell_type": "code",
   "execution_count": 66,
   "metadata": {},
   "outputs": [
    {
     "name": "stdout",
     "output_type": "stream",
     "text": [
      "cyue = 12 * nian + -24366 + (6033 * nian + 7356 >> 14)\n",
      "resy in range(0, 2)\n"
     ]
    }
   ],
   "source": [
    "NY_BIT, NY_IPB = 1, 8\n",
    "for ny_bits in range(32):\n",
    "    ny_c0ib: int = ny_c0i\n",
    "    ny_c1bi, _ = int_frac(ny_c1f * (1 << ny_bits))\n",
    "    ny_c0bi, _ = int_frac(ny_c0f * (1 << ny_bits))\n",
    "    ny_pred: pd.Series = ny_c1i * ny_nian + ny_c0i\n",
    "    ny_bias: pd.Series = ny_c1bi * ny_nian + ny_c0bi\n",
    "    ny_pred += ny_bias // (1 << ny_bits)\n",
    "    ny_resy: pd.Series = ny_dp01 - ny_pred\n",
    "    if ny_resy.max() - ny_resy.min() < (1 << NY_BIT):\n",
    "        ny_c0ib += ny_resy.min()\n",
    "        ny_resy -= ny_resy.min()\n",
    "        print(f'cyue = {ny_c1i} * nian + {ny_c0ib}', end=' + ')\n",
    "        print(f'({ny_c1bi} * nian + {ny_c0bi} >> {ny_bits})')\n",
    "        print(f'resy in {range(ny_resy.min(), ny_resy.max() + 1)}')\n",
    "        break\n",
    "else:\n",
    "    raise ValueError('bad idea, residuals too wide')"
   ]
  },
  {
   "cell_type": "code",
   "execution_count": 67,
   "metadata": {},
   "outputs": [
    {
     "name": "stdout",
     "output_type": "stream",
     "text": [
      "48 bytes\n"
     ]
    }
   ],
   "source": [
    "NY_IPL: int = NY_IPB * BPL\n",
    "ny_va: pd.Series = ny_nian.between(MIN, MAX)\n",
    "ny_cnt_va: int = ny_va.sum() + 1 + (-(ny_va.sum() + 1) % NY_IPL)\n",
    "ny_resy_va: pd.Series = ny_resy[ny_nian >= MIN].iloc[:ny_cnt_va]\n",
    "ny_resy_bt: list[int] = []\n",
    "for i in range(0, len(ny_resy_va), NY_IPB):\n",
    "    bt: int = 0\n",
    "    for j, r in enumerate(ny_resy_va.iloc[i:i+NY_IPB]):\n",
    "        bt |= r << (j * NY_BIT)\n",
    "    ny_resy_bt.append(bt)\n",
    "ny_resy_np: UInt8s = np.array(ny_resy_bt, dtype=np.uint8)\n",
    "ny_resy_np = ny_resy_np.reshape((-1, BPL))\n",
    "ny_resy_ln: list[list[int]] = ny_resy_np.tolist()\n",
    "print(f'{len(ny_resy_bt)} bytes')"
   ]
  },
  {
   "cell_type": "markdown",
   "metadata": {},
   "source": [
    "#### 1.1.3. `cyue` to `uday`: linear (1-deg) regression"
   ]
  },
  {
   "cell_type": "code",
   "execution_count": 68,
   "metadata": {},
   "outputs": [
    {
     "name": "stdout",
     "output_type": "stream",
     "text": [
      "uday = 29.530585133417794 * cyue + 35.71109381781402\n"
     ]
    }
   ],
   "source": [
    "yd_coef: Floats = np.polyfit(x=cyue, y=uday, deg=1)\n",
    "yd_c1, yd_c0 = tp.cast(list[float], yd_coef.tolist())\n",
    "print(f'uday = {yd_c1} * cyue + {yd_c0}')"
   ]
  },
  {
   "cell_type": "code",
   "execution_count": 69,
   "metadata": {},
   "outputs": [
    {
     "name": "stdout",
     "output_type": "stream",
     "text": [
      "29 0.5305851334177945 35 0.7110938178140174\n"
     ]
    }
   ],
   "source": [
    "yd_c1i, yd_c1f = int_frac(yd_c1)\n",
    "yd_c0i, yd_c0f = int_frac(yd_c0)\n",
    "print(yd_c1i, yd_c1f, yd_c0i, yd_c0f)"
   ]
  },
  {
   "cell_type": "code",
   "execution_count": 70,
   "metadata": {},
   "outputs": [
    {
     "name": "stdout",
     "output_type": "stream",
     "text": [
      "uday = 29 * cyue + 34 + (278179 * cyue + 372817 >> 19)\n",
      "resd in range(0, 4)\n"
     ]
    }
   ],
   "source": [
    "YD_BIT, YD_IPB = 2, 4\n",
    "for yd_bits in range(64):\n",
    "    yd_c0ib: int = yd_c0i\n",
    "    yd_c1bi, _ = int_frac(yd_c1f * (1 << yd_bits))\n",
    "    yd_c0bi, _ = int_frac(yd_c0f * (1 << yd_bits))\n",
    "    yd_pred: pd.Series = yd_c1i * cyue + yd_c0i\n",
    "    yd_bias: pd.Series = yd_c1bi * cyue + yd_c0bi\n",
    "    yd_pred += yd_bias // (1 << yd_bits)\n",
    "    yd_resd: pd.Series = uday - yd_pred\n",
    "    if yd_resd.max() - yd_resd.min() < 1 << YD_BIT:\n",
    "        yd_c0ib += yd_resd.min()\n",
    "        yd_resd -= yd_resd.min()\n",
    "        print(f'uday = {yd_c1i} * cyue + {yd_c0ib}', end=' + ')\n",
    "        print(f'({yd_c1bi} * cyue + {yd_c0bi} >> {yd_bits})')\n",
    "        print(f'resd in {range(yd_resd.min(), yd_resd.max() + 1)}')\n",
    "        break\n",
    "else:\n",
    "    raise ValueError('bad idea, residuals too wide')"
   ]
  },
  {
   "cell_type": "code",
   "execution_count": 71,
   "metadata": {},
   "outputs": [
    {
     "name": "stdout",
     "output_type": "stream",
     "text": [
      "936 bytes\n"
     ]
    }
   ],
   "source": [
    "YD_IPL: int = YD_IPB * BPL\n",
    "yd_cnt_va: int = lu_va.sum() + 1 + (-(lu_va.sum() + 1) % YD_IPL)\n",
    "yd_va: pd.Series = lu_df['nian'] >= MIN\n",
    "yd_resd_va: pd.Series = yd_resd[yd_va].iloc[:yd_cnt_va]\n",
    "yd_resd_bt: list[int] = []\n",
    "for i in range(0, len(yd_resd_va), YD_IPB):\n",
    "    bt: int = 0\n",
    "    for j, r in enumerate(yd_resd_va.iloc[i:i+YD_IPB]):\n",
    "        bt |= r << (j * YD_BIT)\n",
    "    yd_resd_bt.append(bt)\n",
    "yd_resd_np: UInt8s = np.array(yd_resd_bt, dtype=np.uint8)\n",
    "yd_resd_np = yd_resd_np.reshape((-1, BPL))\n",
    "yd_resd_ln: list[list[int]] = []\n",
    "for i in range(0, yd_resd_np.shape[0], LPA):\n",
    "    yd_resd_ln.append(yd_resd_np[i:i+LPA].tolist())\n",
    "print(f'{len(yd_resd_bt)} bytes')"
   ]
  },
  {
   "cell_type": "markdown",
   "metadata": {},
   "source": [
    "### 1.2. G2N: `uday` to `cyue` to (`nian`, `ryue`)"
   ]
  },
  {
   "cell_type": "markdown",
   "metadata": {},
   "source": [
    "#### 1.2.1. `uday` to `cyue`: linear (1-deg) regression"
   ]
  },
  {
   "cell_type": "code",
   "execution_count": 72,
   "metadata": {},
   "outputs": [
    {
     "name": "stdout",
     "output_type": "stream",
     "text": [
      "cyue = 0.03386319625845301 * cday + -0.7092917773957796\n"
     ]
    }
   ],
   "source": [
    "dy_coef: Floats = np.polyfit(x=uday, y=cyue, deg=1)\n",
    "dy_c1, dy_c0 = tp.cast(list[float], dy_coef.tolist())\n",
    "dy_c0 += 0.5 # it is midpoint that is to be predicted\n",
    "print(f'cyue = {dy_c1} * cday + {dy_c0}')"
   ]
  },
  {
   "cell_type": "code",
   "execution_count": 73,
   "metadata": {},
   "outputs": [
    {
     "name": "stdout",
     "output_type": "stream",
     "text": [
      "0.03386319625845301 -1 0.29070822260422036\n"
     ]
    }
   ],
   "source": [
    "_, dy_c1f = int_frac(dy_c1)\n",
    "dy_c0i, dy_c0f = int_frac(dy_c0)\n",
    "print(dy_c1f, dy_c0i, dy_c0f)"
   ]
  },
  {
   "cell_type": "code",
   "execution_count": 74,
   "metadata": {},
   "outputs": [
    {
     "name": "stdout",
     "output_type": "stream",
     "text": [
      "cyue = -1 + (8877 * uday + 76207 >> 18)\n"
     ]
    }
   ],
   "source": [
    "for dy_bits in range(64):\n",
    "    dy_c1bi, _ = int_frac(dy_c1f * (1 << dy_bits))\n",
    "    dy_c0bi, _ = int_frac(dy_c0f * (1 << dy_bits))\n",
    "    dy_bias: pd.Series = dy_c1bi * uday + dy_c0bi\n",
    "    dy_pred: pd.Series = dy_c0i + dy_bias // (1 << dy_bits)\n",
    "    if np.all(dy_pred == cyue):\n",
    "        print(f'cyue = {dy_c0i}', end=' + ')\n",
    "        print(f'({dy_c1bi} * uday + {dy_c0bi} >> {dy_bits})')\n",
    "        break\n",
    "else:\n",
    "    raise ValueError('bad idea, residuals too wide')"
   ]
  },
  {
   "cell_type": "markdown",
   "metadata": {},
   "source": [
    "#### 1.2.2. `cyue` to `nian`: linear (1-deg) regression"
   ]
  },
  {
   "cell_type": "code",
   "execution_count": 75,
   "metadata": {},
   "outputs": [
    {
     "name": "stdout",
     "output_type": "stream",
     "text": [
      "nian = 0.0808520257214669 * cyue + 1970.5041542503552\n"
     ]
    }
   ],
   "source": [
    "yn_cyue: pd.Series = lu_df['cyue'][lu_df['ryue'] == 2]\n",
    "yn_nian: pd.Series = lu_df['nian'][lu_df['ryue'] == 2]\n",
    "yn_coef: Floats = np.polyfit(x=yn_cyue, y=yn_nian, deg=1)\n",
    "yn_c1, yn_c0 = tp.cast(list[float], yn_coef.tolist())\n",
    "yn_c0 += 0.5 # similarly, midpoints are considered\n",
    "print(f'nian = {yn_c1} * cyue + {yn_c0}')"
   ]
  },
  {
   "cell_type": "code",
   "execution_count": 76,
   "metadata": {},
   "outputs": [
    {
     "name": "stdout",
     "output_type": "stream",
     "text": [
      "0.0808520257214669 1970 0.5041542503552137\n"
     ]
    }
   ],
   "source": [
    "_, yn_c1f = int_frac(yn_c1)\n",
    "yn_c0i, yn_c0f = int_frac(yn_c0)\n",
    "print(yn_c1f, yn_c0i, yn_c0f)"
   ]
  },
  {
   "cell_type": "code",
   "execution_count": 77,
   "metadata": {},
   "outputs": [
    {
     "name": "stdout",
     "output_type": "stream",
     "text": [
      "nian = 1970 + (10597 * cyue + 66080 >> 17)\n"
     ]
    }
   ],
   "source": [
    "for yn_bits in range(64):\n",
    "    yn_c1bi, _ = int_frac(yn_c1f * (1 << yn_bits))\n",
    "    yn_c0bi, _ = int_frac(yn_c0f * (1 << yn_bits))\n",
    "    yn_bias: pd.Series = yn_c1bi * yn_cyue + yn_c0bi\n",
    "    yn_pred: pd.Series = yn_c0i + yn_bias // (1 << yn_bits)\n",
    "    if np.all(yn_pred == yn_nian):\n",
    "        print(f'nian = {yn_c0i}', end=' + ')\n",
    "        print(f'({yn_c1bi} * cyue + {yn_c0bi} >> {yn_bits})')\n",
    "        break\n",
    "else:\n",
    "    raise ValueError('bad idea, residuals too wide')"
   ]
  },
  {
   "cell_type": "markdown",
   "metadata": {},
   "source": [
    "## 2. Solar"
   ]
  },
  {
   "cell_type": "markdown",
   "metadata": {},
   "source": [
    "### 2.0. Data"
   ]
  },
  {
   "cell_type": "code",
   "execution_count": 78,
   "metadata": {},
   "outputs": [
    {
     "data": {
      "text/html": [
       "<div>\n",
       "<style scoped>\n",
       "    .dataframe tbody tr th:only-of-type {\n",
       "        vertical-align: middle;\n",
       "    }\n",
       "\n",
       "    .dataframe tbody tr th {\n",
       "        vertical-align: top;\n",
       "    }\n",
       "\n",
       "    .dataframe thead th {\n",
       "        text-align: right;\n",
       "    }\n",
       "</style>\n",
       "<table border=\"1\" class=\"dataframe\">\n",
       "  <thead>\n",
       "    <tr style=\"text-align: right;\">\n",
       "      <th></th>\n",
       "      <th>cjie</th>\n",
       "      <th>sui</th>\n",
       "      <th>jie</th>\n",
       "      <th>usec</th>\n",
       "    </tr>\n",
       "  </thead>\n",
       "  <tbody>\n",
       "    <tr>\n",
       "      <th>0</th>\n",
       "      <td>-167280</td>\n",
       "      <td>-5000</td>\n",
       "      <td>0</td>\n",
       "      <td>-219953114960</td>\n",
       "    </tr>\n",
       "    <tr>\n",
       "      <th>1</th>\n",
       "      <td>-167279</td>\n",
       "      <td>-5000</td>\n",
       "      <td>1</td>\n",
       "      <td>-219951781386</td>\n",
       "    </tr>\n",
       "    <tr>\n",
       "      <th>2</th>\n",
       "      <td>-167278</td>\n",
       "      <td>-5000</td>\n",
       "      <td>2</td>\n",
       "      <td>-219950436354</td>\n",
       "    </tr>\n",
       "    <tr>\n",
       "      <th>3</th>\n",
       "      <td>-167277</td>\n",
       "      <td>-5000</td>\n",
       "      <td>3</td>\n",
       "      <td>-219949081820</td>\n",
       "    </tr>\n",
       "    <tr>\n",
       "      <th>4</th>\n",
       "      <td>-167276</td>\n",
       "      <td>-5000</td>\n",
       "      <td>4</td>\n",
       "      <td>-219947720330</td>\n",
       "    </tr>\n",
       "  </tbody>\n",
       "</table>\n",
       "</div>"
      ],
      "text/plain": [
       "     cjie   sui  jie          usec\n",
       "0 -167280 -5000    0 -219953114960\n",
       "1 -167279 -5000    1 -219951781386\n",
       "2 -167278 -5000    2 -219950436354\n",
       "3 -167277 -5000    3 -219949081820\n",
       "4 -167276 -5000    4 -219947720330"
      ]
     },
     "execution_count": 78,
     "metadata": {},
     "output_type": "execute_result"
    }
   ],
   "source": [
    "so_df: pd.DataFrame = pd.read_csv(so_path)\n",
    "cjie: pd.Series = so_df['cjie']\n",
    "suis: pd.Series = so_df['sui']\n",
    "jies: pd.Series = so_df['jie']\n",
    "usec: pd.Series = so_df['usec']\n",
    "so_va: pd.Series = suis.between(MIN, MAX)\n",
    "so_df.head()"
   ]
  },
  {
   "cell_type": "markdown",
   "metadata": {},
   "source": [
    "### 2.1. `cjie` to `usec`: sextic (6-deg) regression"
   ]
  },
  {
   "cell_type": "code",
   "execution_count": 79,
   "metadata": {},
   "outputs": [
    {
     "name": "stdout",
     "output_type": "stream",
     "text": [
      "coefficient matrix shape (24, 7)\n"
     ]
    }
   ],
   "source": [
    "js_coef_ls: list[Floats] = []\n",
    "for jie in range(24):\n",
    "    js_gr_suis: pd.Series = suis[jies == jie]\n",
    "    js_gr_usec: pd.Series = usec[jies == jie]\n",
    "    js_coef_gr: Floats = np.polyfit(x=js_gr_suis, y=js_gr_usec, deg=6)\n",
    "    js_coef_ls.append(js_coef_gr)\n",
    "js_coef_np: Floats = np.array(js_coef_ls, dtype=np.float64)\n",
    "js_c0_np: Floats = js_coef_np[:, -1]\n",
    "js_c0m, _ = int_frac(js_c0_np.min().item())\n",
    "js_coef_np[:, -1] -= js_c0m\n",
    "js_c1_np: Floats = js_coef_np[:, -2]\n",
    "js_c1m, _ = int_frac(js_c1_np.min().item())\n",
    "js_coef_np[:, -2] -= js_c1m\n",
    "print(f'coefficient matrix shape {js_coef_np.shape}')"
   ]
  },
  {
   "cell_type": "code",
   "execution_count": 80,
   "metadata": {},
   "outputs": [
    {
     "name": "stdout",
     "output_type": "stream",
     "text": [
      "usec = 31556894 * sui + -62168131570 + (12 bits/deg)\n",
      "ress in range(0, 3127)\n"
     ]
    }
   ],
   "source": [
    "JS_BIT: int = 12\n",
    "js_va: pd.Series = suis >= MIN\n",
    "for js_bits in range(32):\n",
    "    js_shls: Floats = 2.0 ** (js_bits * np.arange(6, -1, -1))\n",
    "    js_cshl_np: Floats = js_coef_np * js_shls\n",
    "    js_ci_np: Int64s = np.round(js_cshl_np).astype(np.int64)\n",
    "    js_rest_ls: list[list[int]] = []\n",
    "    js_ress_ext_ls: list[int] = []\n",
    "    for jie in range(24):\n",
    "        js_gr_suis: pd.Series = suis[jies == jie]\n",
    "        js_gr_usec: pd.Series = usec[jies == jie]\n",
    "        js_gr_c0, *su_gr_c1r = tp.cast(list[int], js_ci_np[jie].tolist())\n",
    "        js_gr_pr: pd.Series = 0 * js_gr_suis + js_gr_c0\n",
    "        for ci in su_gr_c1r:\n",
    "            js_gr_pr = js_gr_pr * js_gr_suis // (1 << js_bits) + ci\n",
    "        js_gr_pr += js_c1m * js_gr_suis + js_c0m\n",
    "        js_gr_ress = js_gr_usec - js_gr_pr\n",
    "        js_rest_ls.append(js_gr_ress[js_va].to_list())\n",
    "        js_ress_ext_ls.append(js_gr_ress.max() - js_gr_ress.min())\n",
    "    if max(js_ress_ext_ls) < 1 << JS_BIT:\n",
    "        js_resm_ls: list[list[int]] = list(zip(*js_rest_ls))\n",
    "        js_resm_np: Int64s = np.array(js_resm_ls, dtype=np.int64)\n",
    "        js_resm_min: Int64s = js_resm_np.min(axis=0)\n",
    "        js_ci_np[:, -1] += 2 * (1 << JS_BIT) + js_resm_min\n",
    "        js_c0mb: int = js_c0m - 2 * (1 << JS_BIT)\n",
    "        print(f'usec = {js_c1m} * sui + {js_c0mb} + ({js_bits} bits/deg)')\n",
    "        js_resm_np -= js_resm_min\n",
    "        print(f'ress in {range(js_resm_np.min(), js_resm_np.max() + 1)}')\n",
    "        break\n",
    "else:\n",
    "    raise ValueError('bad idea, residuals too wide')"
   ]
  },
  {
   "cell_type": "code",
   "execution_count": 81,
   "metadata": {},
   "outputs": [
    {
     "name": "stdout",
     "output_type": "stream",
     "text": [
      "10812 bytes\n"
     ]
    }
   ],
   "source": [
    "JS_IPL: int = JS_BIT * 8 // BPL\n",
    "js_cnt_va: int = so_va.sum() + 1 + (-so_va.sum() - 1) % JS_IPL\n",
    "js_ress_va: list[int] = js_resm_np.ravel()[:js_cnt_va].tolist()\n",
    "js_ress_bt: list[int] = []\n",
    "# with JS_BIT == 12 == 1.5 bytes\n",
    "for old, new in zip(js_ress_va[0::2], js_ress_va[1::2]):\n",
    "    lo: int = old & 0xff\n",
    "    md: int = (old >> 8) | ((new & 0x0f) << 4)\n",
    "    hi: int = new >> 4\n",
    "    js_ress_bt.extend([lo, md, hi])\n",
    "js_ress_np: UInt8s = np.array(js_ress_bt, dtype=np.uint8)\n",
    "js_ress_np = js_ress_np.reshape((-1, BPL))\n",
    "js_ress_ln: list[list[int]] = []\n",
    "for i in range(0, js_ress_np.shape[0], LPA):\n",
    "    js_ress_ln.append(js_ress_np[i:i+LPA].tolist())\n",
    "print(f'{len(js_ress_bt)} bytes')"
   ]
  },
  {
   "cell_type": "markdown",
   "metadata": {},
   "source": [
    "### 2.2. `usec` to `cjie`: linear (1-deg) regression"
   ]
  },
  {
   "cell_type": "code",
   "execution_count": 82,
   "metadata": {},
   "outputs": [
    {
     "name": "stdout",
     "output_type": "stream",
     "text": [
      "cjie = 7.605305803404144e-07 * usec + 1.2641291881685328\n"
     ]
    }
   ],
   "source": [
    "sj_coef: Floats = np.polyfit(x=usec, y=cjie, deg=1)\n",
    "sj_c1, sj_c0 = tp.cast(list[float], sj_coef.tolist())\n",
    "sj_c0 += 0.5\n",
    "print(f'cjie = {sj_c1} * usec + {sj_c0}')"
   ]
  },
  {
   "cell_type": "code",
   "execution_count": 83,
   "metadata": {},
   "outputs": [
    {
     "name": "stdout",
     "output_type": "stream",
     "text": [
      "7.605305803404144e-07 1 0.2641291881685328\n"
     ]
    }
   ],
   "source": [
    "_, sj_c1f = int_frac(sj_c1)\n",
    "sj_c0i, sj_c0f = int_frac(sj_c0)\n",
    "print(sj_c1f, sj_c0i, sj_c0f)"
   ]
  },
  {
   "cell_type": "code",
   "execution_count": 84,
   "metadata": {},
   "outputs": [
    {
     "name": "stdout",
     "output_type": "stream",
     "text": [
      "cjie = 1 + ((209053 * usec >> 19) + 138479 >> 19)\n"
     ]
    }
   ],
   "source": [
    "for sj_bits in range(32):\n",
    "    sj_c1bi, _ = int_frac(sj_c1f * (1 << (2 * sj_bits)))\n",
    "    sj_c0bi, _ = int_frac(sj_c0f * (1 << sj_bits))\n",
    "    sj_pred: pd.Series = (sj_c1bi * usec) // (1 << sj_bits)\n",
    "    sj_pred = (sj_pred + sj_c0bi) // (1 << sj_bits) + sj_c0i\n",
    "    if np.all(sj_pred == cjie):\n",
    "        print(f'cjie = {sj_c0i}', end=' + ')\n",
    "        print(f'(({sj_c1bi} * usec >> {sj_bits})', end=' + ')\n",
    "        print(f'{sj_c0bi} >> {sj_bits})')\n",
    "        break\n",
    "else:\n",
    "    raise ValueError('bad idea, residuals too wide')"
   ]
  },
  {
   "cell_type": "markdown",
   "metadata": {},
   "source": [
    "## 3. Export"
   ]
  },
  {
   "cell_type": "markdown",
   "metadata": {},
   "source": [
    "### 3.0. Bounds & Formats"
   ]
  },
  {
   "cell_type": "code",
   "execution_count": 85,
   "metadata": {},
   "outputs": [
    {
     "name": "stdout",
     "output_type": "stream",
     "text": [
      "    0x{:02x}, 0x{:02x}, 0x{:02x}, 0x{:02x}, 0x{:02x}, 0x{:02\n"
     ]
    }
   ],
   "source": [
    "VPL: int = 5 # variables per line\n",
    "ICX: str = 'inline constexpr'\n",
    "os.makedirs(hpp_dir, exist_ok=True)\n",
    "with open(ex_path, 'w') as ex_hpp:\n",
    "    pass # clear `data.cpp` if it exists\n",
    "ex_fmt_bt: str = '   ' + BPL * ' 0x{:02x},' + '\\n'\n",
    "print(ex_fmt_bt[:60])"
   ]
  },
  {
   "cell_type": "code",
   "execution_count": 86,
   "metadata": {},
   "outputs": [
    {
     "name": "stdout",
     "output_type": "stream",
     "text": [
      "28 bytes for bounds\n"
     ]
    }
   ],
   "source": [
    "with open(ex_path, 'a') as ex_hpp:\n",
    "    ex_hpp.write('#ifndef IW_DATA_HPP\\n')\n",
    "    ex_hpp.write('#define IW_DATA_HPP 20250203L\\n\\n')\n",
    "    ex_hpp.write('#include <cstdint>\\n\\n')\n",
    "    ex_hpp.write('namespace iw17::_data {\\n\\n')\n",
    "    ex_hpp.write(f'{ICX} int16_t NIAN_MIN = {MIN:+d};\\n')\n",
    "    ex_hpp.write(f'{ICX} int16_t NIAN_MAX = {MAX:+d};\\n\\n')\n",
    "    ex_hpp.write(f'{ICX} int16_t SUI_MIN = {MIN:+d};\\n')\n",
    "    ex_hpp.write(f'{ICX} int16_t SUI_MAX = {MAX:+d};\\n\\n')\n",
    "    ex_hpp.write(f'{ICX} int16_t YEAR_MIN = {MIN:+d};\\n')\n",
    "    ex_hpp.write(f'{ICX} int16_t YEAR_MAX = {MAX:+d};\\n\\n')\n",
    "    ex_cyue_min: int = cyue[lu_va].min()\n",
    "    ex_cyue_max: int = cyue[lu_va].max()\n",
    "    ex_cyue_num: int = ex_cyue_max - ex_cyue_min + 1\n",
    "    ex_hpp.write(f'{ICX} int32_t CYUE_MIN = {ex_cyue_min:+d};\\n')\n",
    "    ex_hpp.write(f'{ICX} int32_t CYUE_MAX = {ex_cyue_max:+d};\\n\\n')\n",
    "    ex_cjie_min: int = cjie[so_va].min()\n",
    "    ex_cjie_max: int = cjie[so_va].max()\n",
    "    ex_cjie_num: int = ex_cjie_max - ex_cjie_min + 1\n",
    "    ex_hpp.write(f'{ICX} int32_t CJIE_MIN = {ex_cjie_min:+d};\\n')\n",
    "    ex_hpp.write(f'{ICX} int32_t CJIE_MAX = {ex_cjie_max:+d};\\n\\n')\n",
    "ex_bt_meta: int = 2 * 6 + 4 * 4\n",
    "print(f'{ex_bt_meta} bytes for bounds')"
   ]
  },
  {
   "cell_type": "markdown",
   "metadata": {},
   "source": [
    "### 3.1. Lunar"
   ]
  },
  {
   "cell_type": "markdown",
   "metadata": {},
   "source": [
    "#### 3.1.0. Formats"
   ]
  },
  {
   "cell_type": "code",
   "execution_count": 87,
   "metadata": {},
   "outputs": [
    {
     "name": "stdout",
     "output_type": "stream",
     "text": [
      "{:d}, {:d}, {:d}, {:d}\n",
      "{:d}, {:d}, {:d}\n"
     ]
    }
   ],
   "source": [
    "ex_fl_hi: str = ', '.join(4 * ['{:d}'])\n",
    "ex_fl_wl: list[int] = np.char.str_len(np.array([\n",
    "    [dy_c0i, dy_c1bi, dy_c0bi],\n",
    "    [yn_c0i, yn_c1bi, yn_c0bi],\n",
    "], dtype=str)).max(axis=0).tolist()\n",
    "ex_fl_lo: str = ', '.join(3 * ['{:d}'])\n",
    "print(ex_fl_hi)\n",
    "print(ex_fl_lo)"
   ]
  },
  {
   "cell_type": "markdown",
   "metadata": {},
   "source": [
    "#### 3.1.1. `nian` to `run`"
   ]
  },
  {
   "cell_type": "code",
   "execution_count": 88,
   "metadata": {},
   "outputs": [
    {
     "name": "stdout",
     "output_type": "stream",
     "text": [
      "156 bytes for NR runs\n"
     ]
    }
   ],
   "source": [
    "with open(ex_path, 'a') as ex_hpp:\n",
    "    ex_hpp.write(f'{ICX} uint8_t NR_RUNS[] = {{\\n')\n",
    "    for ex_nr_ln in nr_ry_ln:\n",
    "        ex_hpp.write(ex_fmt_bt.format(*ex_nr_ln))\n",
    "    ex_hpp.write('};\\n\\n')\n",
    "ex_bt_nr: int = len(nr_ry_bt)\n",
    "print(f'{ex_bt_nr} bytes for NR runs')"
   ]
  },
  {
   "cell_type": "markdown",
   "metadata": {},
   "source": [
    "#### 3.1.2. `nian` to `cyue`"
   ]
  },
  {
   "cell_type": "code",
   "execution_count": 89,
   "metadata": {},
   "outputs": [
    {
     "name": "stdout",
     "output_type": "stream",
     "text": [
      "8 bytes for NY bits\n"
     ]
    }
   ],
   "source": [
    "with open(ex_path, 'a') as ex_hpp:\n",
    "    ex_hpp.write(f'{ICX} int64_t NY_BITS = {ny_bits};\\n\\n')\n",
    "ex_bt_ny_bits: int = 8 # 1 saves nothing due to alignment\n",
    "print(f'{ex_bt_ny_bits} bytes for NY bits')"
   ]
  },
  {
   "cell_type": "code",
   "execution_count": 90,
   "metadata": {},
   "outputs": [
    {
     "name": "stdout",
     "output_type": "stream",
     "text": [
      "32 bytes for NY coef\n"
     ]
    }
   ],
   "source": [
    "with open(ex_path, 'a') as ex_hpp:\n",
    "    ex_hpp.write(f'{ICX} int64_t NY_COEF[] = {{ ')\n",
    "    ex_hpp.write(ex_fl_hi.format(ny_c1i, ny_c0ib, ny_c1bi, ny_c0bi))\n",
    "    ex_hpp.write(' };\\n\\n')\n",
    "ex_bt_ny_coef: int = 8 * 4\n",
    "print(f'{ex_bt_ny_coef} bytes for NY coef')"
   ]
  },
  {
   "cell_type": "code",
   "execution_count": 91,
   "metadata": {},
   "outputs": [
    {
     "name": "stdout",
     "output_type": "stream",
     "text": [
      "48 bytes for NY resd\n"
     ]
    }
   ],
   "source": [
    "with open(ex_path, 'a') as ex_hpp:\n",
    "    ex_hpp.write(f'{ICX} uint8_t NY_RESY[] = {{\\n')\n",
    "    for ex_ny_ln in ny_resy_ln:\n",
    "        ex_hpp.write(ex_fmt_bt.format(*ex_ny_ln))\n",
    "    ex_hpp.write('};\\n\\n')\n",
    "ex_bt_ny_resy: int = len(ny_resy_bt)\n",
    "print(f'{ex_bt_ny_resy} bytes for NY resd')"
   ]
  },
  {
   "cell_type": "markdown",
   "metadata": {},
   "source": [
    "#### 3.1.3. `cyue` to `uday`"
   ]
  },
  {
   "cell_type": "code",
   "execution_count": 92,
   "metadata": {},
   "outputs": [
    {
     "name": "stdout",
     "output_type": "stream",
     "text": [
      "8 bytes for YD bits\n"
     ]
    }
   ],
   "source": [
    "with open(ex_path, 'a') as ex_hpp:\n",
    "    ex_hpp.write(f'{ICX} int64_t YD_BITS = {yd_bits};\\n\\n')\n",
    "ex_bt_yd_bits: int = 8\n",
    "print(f'{ex_bt_yd_bits} bytes for YD bits')"
   ]
  },
  {
   "cell_type": "code",
   "execution_count": 93,
   "metadata": {},
   "outputs": [
    {
     "name": "stdout",
     "output_type": "stream",
     "text": [
      "32 bytes for YD coef\n"
     ]
    }
   ],
   "source": [
    "with open(ex_path, 'a') as ex_hpp:\n",
    "    ex_hpp.write(f'{ICX} int64_t YD_COEF[] = {{ ')\n",
    "    ex_hpp.write(ex_fl_hi.format(yd_c1i, yd_c0ib, yd_c1bi, yd_c0bi))\n",
    "    ex_hpp.write(' };\\n\\n')\n",
    "ex_bt_yd_coef: int = 8 * 4\n",
    "print(f'{ex_bt_yd_coef} bytes for YD coef')"
   ]
  },
  {
   "cell_type": "code",
   "execution_count": 94,
   "metadata": {},
   "outputs": [
    {
     "name": "stdout",
     "output_type": "stream",
     "text": [
      "952 bytes for YD resd\n"
     ]
    }
   ],
   "source": [
    "with open(ex_path, 'a') as ex_hpp:\n",
    "    ex_yd_na: int = len(yd_resd_ln)\n",
    "    ex_yd_nw: int = len(str(ex_yd_na))\n",
    "    ex_yd_ns: list[str] = [\n",
    "        f'YD_RESD_{i:0{ex_yd_nw}d}' for i in range(ex_yd_na)\n",
    "    ]\n",
    "    ex_hpp.write(f'{ICX} int64_t YD_PAGE = {BPL * LPA};\\n\\n')\n",
    "    for ex_yd_nv, ex_yd_ap in zip(ex_yd_ns, yd_resd_ln):\n",
    "        ex_hpp.write(f'{ICX} uint8_t {ex_yd_nv}[] = {{\\n')\n",
    "        for ex_yd_ln in ex_yd_ap:\n",
    "            ex_hpp.write(ex_fmt_bt.format(*ex_yd_ln))\n",
    "        ex_hpp.write('};\\n\\n')\n",
    "    ex_hpp.write(f'{ICX} const uint8_t *YD_ARRD[] = {{\\n')\n",
    "    for i in range(0, ex_yd_na, VPL):\n",
    "        ex_yd_al: list[str] = ex_yd_ns[i:i+VPL]\n",
    "        ex_yd_ll: int = len(ex_yd_al)\n",
    "        ex_yd_fmt: str = '   ' + ex_yd_ll * ' {},' + '\\n'\n",
    "        ex_hpp.write(ex_yd_fmt.format(*ex_yd_al))\n",
    "    ex_hpp.write('};\\n\\n')\n",
    "ex_bt_yd_resd: int = 8 + 1 * len(yd_resd_bt) + PTR * ex_yd_na\n",
    "print(f'{ex_bt_yd_resd} bytes for YD resd')"
   ]
  },
  {
   "cell_type": "markdown",
   "metadata": {},
   "source": [
    "#### 3.1.4. `uday` to `cyue`"
   ]
  },
  {
   "cell_type": "code",
   "execution_count": 95,
   "metadata": {},
   "outputs": [
    {
     "name": "stdout",
     "output_type": "stream",
     "text": [
      "8 bytes for DY bits\n"
     ]
    }
   ],
   "source": [
    "with open(ex_path, 'a') as ex_hpp:\n",
    "    ex_hpp.write(f'{ICX} int64_t DY_BITS = {dy_bits};\\n\\n')\n",
    "ex_bt_dy_bits: int = 8\n",
    "print(f'{ex_bt_dy_bits} bytes for DY bits')"
   ]
  },
  {
   "cell_type": "code",
   "execution_count": 96,
   "metadata": {},
   "outputs": [
    {
     "name": "stdout",
     "output_type": "stream",
     "text": [
      "24 bytes for DY coef\n"
     ]
    }
   ],
   "source": [
    "with open(ex_path, 'a') as ex_hpp:\n",
    "    ex_hpp.write(f'{ICX} int64_t DY_COEF[] = {{ ')\n",
    "    ex_hpp.write(ex_fl_lo.format(dy_c0i, dy_c1bi, dy_c0bi))\n",
    "    ex_hpp.write(' };\\n\\n')\n",
    "ex_bt_dy_coef: int = 8 * 3\n",
    "print(f'{ex_bt_dy_coef} bytes for DY coef')"
   ]
  },
  {
   "cell_type": "markdown",
   "metadata": {},
   "source": [
    "#### 3.1.5. `cyue` to `nian`"
   ]
  },
  {
   "cell_type": "code",
   "execution_count": 97,
   "metadata": {},
   "outputs": [
    {
     "name": "stdout",
     "output_type": "stream",
     "text": [
      "8 bytes for YN bits\n"
     ]
    }
   ],
   "source": [
    "with open(ex_path, 'a') as ex_hpp:\n",
    "    ex_hpp.write(f'{ICX} int64_t YN_BITS = {yn_bits};\\n\\n')\n",
    "ex_bt_yn_bits: int = 8\n",
    "print(f'{ex_bt_yn_bits} bytes for YN bits')"
   ]
  },
  {
   "cell_type": "code",
   "execution_count": 98,
   "metadata": {},
   "outputs": [
    {
     "name": "stdout",
     "output_type": "stream",
     "text": [
      "28 bytes for YN coef\n"
     ]
    }
   ],
   "source": [
    "with open(ex_path, 'a') as ex_hpp:\n",
    "    ex_hpp.write(f'{ICX} int64_t YN_COEF[] = {{ ')\n",
    "    ex_hpp.write(ex_fl_lo.format(yn_c0i, yn_c1bi, yn_c0bi))\n",
    "    ex_hpp.write(' };\\n\\n')\n",
    "ex_bt_yn_coef: int = 4 + 8 * 3\n",
    "print(f'{ex_bt_yn_coef} bytes for YN coef')"
   ]
  },
  {
   "cell_type": "markdown",
   "metadata": {},
   "source": [
    "### 3.2. Solar"
   ]
  },
  {
   "cell_type": "markdown",
   "metadata": {},
   "source": [
    "#### 3.2.0. Formats"
   ]
  },
  {
   "cell_type": "code",
   "execution_count": 99,
   "metadata": {},
   "outputs": [
    {
     "name": "stdout",
     "output_type": "stream",
     "text": [
      "{:4d}, {:5d}, {:6d}, {:6d}, {:7d}, {:6d}, {:8d}\n",
      "{:d}, {:d}, {:d}\n"
     ]
    }
   ],
   "source": [
    "ex_fs_wh: Int64s = np.char.str_len(js_ci_np.astype(str)).max(axis=0)\n",
    "ex_fs_hi: str = ', '.join(7 * ['{{:{}d}}']).format(*ex_fs_wh)\n",
    "ex_fs_lo: str = ', '.join(3 * ['{:d}'])\n",
    "print(ex_fs_hi)\n",
    "print(ex_fs_lo)"
   ]
  },
  {
   "cell_type": "markdown",
   "metadata": {},
   "source": [
    "#### 3.2.1. `sui` to `usec`"
   ]
  },
  {
   "cell_type": "code",
   "execution_count": 100,
   "metadata": {},
   "outputs": [
    {
     "name": "stdout",
     "output_type": "stream",
     "text": [
      "8 bytes for JS bits\n"
     ]
    }
   ],
   "source": [
    "with open(ex_path, 'a') as ex_hpp:\n",
    "    ex_hpp.write(f'{ICX} int64_t JS_BITS = {js_bits};\\n\\n')\n",
    "ex_bt_js_bits: int = 8\n",
    "print(f'{ex_bt_js_bits} bytes for JS bits')"
   ]
  },
  {
   "cell_type": "code",
   "execution_count": 101,
   "metadata": {},
   "outputs": [
    {
     "name": "stdout",
     "output_type": "stream",
     "text": [
      "16 bytes for JS clin\n"
     ]
    }
   ],
   "source": [
    "with open(ex_path, 'a') as ex_hpp:\n",
    "    ex_hpp.write(f'{ICX} int64_t JS_CLIN[] = ')\n",
    "    ex_hpp.write(f'{{ {js_c1m}, {js_c0mb} }};\\n\\n')\n",
    "ex_bt_js_clin: int = 8 * 2\n",
    "print(f'{ex_bt_js_clin} bytes for JS clin')"
   ]
  },
  {
   "cell_type": "code",
   "execution_count": 102,
   "metadata": {},
   "outputs": [
    {
     "name": "stdout",
     "output_type": "stream",
     "text": [
      "1344 bytes for JS coef\n"
     ]
    }
   ],
   "source": [
    "with open(ex_path, 'a') as ex_hpp:\n",
    "    ex_hpp.write(f'{ICX} int64_t JS_COEF[][7] = {{\\n')\n",
    "    for ex_js_ci in tp.cast(list[int], js_ci_np.tolist()):\n",
    "        ex_js_ci_ln: str = ex_fs_hi.format(*ex_js_ci)\n",
    "        ex_hpp.write(f'    {{ {ex_js_ci_ln} }},\\n')\n",
    "    ex_hpp.write('};\\n\\n')\n",
    "ex_bt_js_coef: int = 8 * 7 * 24\n",
    "print(f'{ex_bt_js_coef} bytes for JS coef')"
   ]
  },
  {
   "cell_type": "code",
   "execution_count": 103,
   "metadata": {},
   "outputs": [
    {
     "name": "stdout",
     "output_type": "stream",
     "text": [
      "10844 bytes for JS ress\n"
     ]
    }
   ],
   "source": [
    "with open(ex_path, 'a') as ex_hpp:\n",
    "    ex_js_na: int = len(js_ress_ln)\n",
    "    ex_js_nw: int = len(str(ex_js_na))\n",
    "    ex_js_ns: list[str] = [\n",
    "        f'JS_RESS_{i:0{ex_js_nw}d}' for i in range(ex_js_na)\n",
    "    ]\n",
    "    ex_hpp.write(f'{ICX} int64_t JS_PAGE = {BPL * LPA};\\n\\n')\n",
    "    for ex_js_nv, ex_js_ap in zip(ex_js_ns, js_ress_ln):\n",
    "        ex_hpp.write(f'{ICX} uint8_t {ex_js_nv}[] = {{\\n')\n",
    "        for ex_js_ln in ex_js_ap:\n",
    "            ex_hpp.write(ex_fmt_bt.format(*ex_js_ln))\n",
    "        ex_hpp.write('};\\n\\n')\n",
    "    ex_hpp.write(f'{ICX} const uint8_t *JS_ARRS[] = {{\\n')\n",
    "    for i in range(0, ex_js_na, VPL):\n",
    "        ex_js_al: list[str] = ex_js_ns[i:i+VPL]\n",
    "        ex_js_ll: int = len(ex_js_al)\n",
    "        ex_js_fmt: str = '   ' + ex_js_ll * ' {},' + '\\n'\n",
    "        ex_hpp.write(ex_js_fmt.format(*ex_js_al))\n",
    "    ex_hpp.write('};\\n\\n')\n",
    "ex_bt_js_resd: int = 8 + 1 * len(js_ress_bt) + PTR * ex_js_na\n",
    "print(f'{ex_bt_js_resd} bytes for JS ress')"
   ]
  },
  {
   "cell_type": "markdown",
   "metadata": {},
   "source": [
    "#### 3.2.2. `usec` to `cjie`"
   ]
  },
  {
   "cell_type": "code",
   "execution_count": 104,
   "metadata": {},
   "outputs": [
    {
     "name": "stdout",
     "output_type": "stream",
     "text": [
      "8 bytes for SJ bits\n"
     ]
    }
   ],
   "source": [
    "with open(ex_path, 'a') as ex_hpp:\n",
    "    ex_hpp.write(f'{ICX} int64_t SJ_BITS = {sj_bits};\\n\\n')\n",
    "ex_bt_sj_bits: int = 8\n",
    "print(f'{ex_bt_sj_bits} bytes for SJ bits')"
   ]
  },
  {
   "cell_type": "code",
   "execution_count": 105,
   "metadata": {},
   "outputs": [
    {
     "name": "stdout",
     "output_type": "stream",
     "text": [
      "24 bytes for SJ coef\n"
     ]
    }
   ],
   "source": [
    "with open(ex_path, 'a') as ex_hpp:\n",
    "    ex_hpp.write(f'{ICX} int64_t SJ_COEF[] = {{ ')\n",
    "    ex_hpp.write(ex_fs_lo.format(sj_c0i, sj_c1bi, sj_c0bi))\n",
    "    ex_hpp.write(' };\\n\\n')\n",
    "ex_bt_sj_coef: int = 8 * 3\n",
    "print(f'{ex_bt_sj_coef} bytes for SJ coef')"
   ]
  },
  {
   "cell_type": "markdown",
   "metadata": {},
   "source": [
    "## 4. Statistics"
   ]
  },
  {
   "cell_type": "code",
   "execution_count": 106,
   "metadata": {},
   "outputs": [
    {
     "name": "stdout",
     "output_type": "stream",
     "text": [
      "13576 bytes exported as data\n",
      "1.969 s taken for data generation\n"
     ]
    }
   ],
   "source": [
    "ex_bt: int = sum([eval(v) for v in dir() if v.startswith('ex_bt_')])\n",
    "with open(ex_path, 'a') as ex_hpp:\n",
    "    ex_hpp.write('} // namespace iw17::_data, ')\n",
    "    ex_hpp.write(f'{ex_bt} bytes in total\\n\\n')\n",
    "    ex_hpp.write('#endif // IW_DATA_HPP\\n\\n')\n",
    "print(f'{ex_bt} bytes exported as data')\n",
    "t_end: float = time.perf_counter()\n",
    "sec_taken: float = t_end - t_begin\n",
    "print(f'{sec_taken:.3f} s taken for data generation')"
   ]
  },
  {
   "cell_type": "markdown",
   "metadata": {},
   "source": [
    "## 5. Vocabulary"
   ]
  },
  {
   "cell_type": "markdown",
   "metadata": {},
   "source": [
    "Lunar:\n",
    "* NR: `nian` to `run`\n",
    "* NY: `nian` to `cyue`\n",
    "* YD: `cyue` to `uday`\n",
    "* DY: `uday` to `cyue`\n",
    "* YN: `cyue` to `nian`\n",
    "\n",
    "Solar:\n",
    "* JS: `cjie` to `usec`\n",
    "* SJ: `usec` to `cjie`\n",
    "\n",
    "P.S.\n",
    "* A new `nongli` day comes at 00:00:00 UTC+8,\n",
    "  and DST from 1985 to 1991 is taken out of account.\n",
    "* 1970 `nian` comes on `chunjie` (p01-01), while\n",
    "  1970 `sui` comes at `dongzhi` (1969-12-22 08:43:41 UTC+8).\n",
    "* The prefix `u` in `uday` and `usec` means Unix,\n",
    "  counting from Unix Epoch (1970-01-01 00:00:00 UTC).\n",
    "* The prefix `c` in `cyue` and `cjie` means cumulative,\n",
    "  counting from 1970-p01 and 1970 `dongzhi` resp.\n",
    "* `Nongli` has both lunar and solar. NEVER refer to\n",
    "  CHINESE new year `chunjie` as LUNAR new year!"
   ]
  }
 ],
 "metadata": {
  "kernelspec": {
   "display_name": "Nongli",
   "language": "python",
   "name": "python3"
  },
  "language_info": {
   "codemirror_mode": {
    "name": "ipython",
    "version": 3
   },
   "file_extension": ".py",
   "mimetype": "text/x-python",
   "name": "python",
   "nbconvert_exporter": "python",
   "pygments_lexer": "ipython3",
   "version": "3.13.2"
  }
 },
 "nbformat": 4,
 "nbformat_minor": 2
}
