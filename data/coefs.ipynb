{
 "cells": [
  {
   "cell_type": "markdown",
   "metadata": {},
   "source": [
    "# Coefficients & Residuals"
   ]
  },
  {
   "cell_type": "code",
   "execution_count": 97,
   "metadata": {},
   "outputs": [],
   "source": [
    "import os\n",
    "import typing as tp"
   ]
  },
  {
   "cell_type": "code",
   "execution_count": 98,
   "metadata": {},
   "outputs": [],
   "source": [
    "import numpy as np\n",
    "import pandas as pd\n",
    "from numpy.typing import NDArray"
   ]
  },
  {
   "cell_type": "code",
   "execution_count": 99,
   "metadata": {},
   "outputs": [],
   "source": [
    "UInt8s: tp.TypeAlias = NDArray[np.uint8]\n",
    "Int64s: tp.TypeAlias = NDArray[np.int64]\n",
    "Floats: tp.TypeAlias = NDArray[np.float64]"
   ]
  },
  {
   "cell_type": "markdown",
   "metadata": {},
   "source": [
    "## 0. Meta"
   ]
  },
  {
   "cell_type": "code",
   "execution_count": 100,
   "metadata": {},
   "outputs": [],
   "source": [
    "MIN: int = -5000\n",
    "MAX: int = 9999\n",
    "BPL: int = 12"
   ]
  },
  {
   "cell_type": "code",
   "execution_count": 101,
   "metadata": {},
   "outputs": [],
   "source": [
    "here: str = os.path.abspath('')\n",
    "csv_dir: str = os.path.join(here, 'build')\n",
    "lu_path: str = os.path.join(csv_dir, 'lunar.csv')\n",
    "so_path: str = os.path.join(csv_dir, 'solar.csv')"
   ]
  },
  {
   "cell_type": "code",
   "execution_count": 102,
   "metadata": {},
   "outputs": [],
   "source": [
    "def int_frac(x: float) -> tuple[int, float]:\n",
    "    '''\n",
    "    Splits a float to integral and fractional parts.\n",
    "\n",
    "    Args:\n",
    "        x (float): input floating-point value\n",
    "    Returns:\n",
    "        int: the maximal integer `i <= x`\n",
    "        float: `x - i` in [0, 1)\n",
    "    '''\n",
    "\n",
    "    xi, xf = divmod(x, 1)\n",
    "    return int(xi), xf"
   ]
  },
  {
   "cell_type": "markdown",
   "metadata": {},
   "source": [
    "## 1. Lunar"
   ]
  },
  {
   "cell_type": "markdown",
   "metadata": {},
   "source": [
    "### 1.0. Data"
   ]
  },
  {
   "cell_type": "code",
   "execution_count": 103,
   "metadata": {},
   "outputs": [
    {
     "data": {
      "text/html": [
       "<div>\n",
       "<style scoped>\n",
       "    .dataframe tbody tr th:only-of-type {\n",
       "        vertical-align: middle;\n",
       "    }\n",
       "\n",
       "    .dataframe tbody tr th {\n",
       "        vertical-align: top;\n",
       "    }\n",
       "\n",
       "    .dataframe thead th {\n",
       "        text-align: right;\n",
       "    }\n",
       "</style>\n",
       "<table border=\"1\" class=\"dataframe\">\n",
       "  <thead>\n",
       "    <tr style=\"text-align: right;\">\n",
       "      <th></th>\n",
       "      <th>cyue</th>\n",
       "      <th>nian</th>\n",
       "      <th>ryue</th>\n",
       "      <th>usec</th>\n",
       "      <th>uday</th>\n",
       "    </tr>\n",
       "  </thead>\n",
       "  <tbody>\n",
       "    <tr>\n",
       "      <th>0</th>\n",
       "      <td>-86209</td>\n",
       "      <td>-5001</td>\n",
       "      <td>22</td>\n",
       "      <td>-219954231530</td>\n",
       "      <td>-2545767</td>\n",
       "    </tr>\n",
       "    <tr>\n",
       "      <th>1</th>\n",
       "      <td>-86208</td>\n",
       "      <td>-5001</td>\n",
       "      <td>24</td>\n",
       "      <td>-219951691034</td>\n",
       "      <td>-2545737</td>\n",
       "    </tr>\n",
       "    <tr>\n",
       "      <th>2</th>\n",
       "      <td>-86207</td>\n",
       "      <td>-5000</td>\n",
       "      <td>2</td>\n",
       "      <td>-219949157263</td>\n",
       "      <td>-2545708</td>\n",
       "    </tr>\n",
       "    <tr>\n",
       "      <th>3</th>\n",
       "      <td>-86206</td>\n",
       "      <td>-5000</td>\n",
       "      <td>4</td>\n",
       "      <td>-219946626852</td>\n",
       "      <td>-2545679</td>\n",
       "    </tr>\n",
       "    <tr>\n",
       "      <th>4</th>\n",
       "      <td>-86205</td>\n",
       "      <td>-5000</td>\n",
       "      <td>6</td>\n",
       "      <td>-219944096614</td>\n",
       "      <td>-2545649</td>\n",
       "    </tr>\n",
       "  </tbody>\n",
       "</table>\n",
       "</div>"
      ],
      "text/plain": [
       "    cyue  nian  ryue          usec     uday\n",
       "0 -86209 -5001    22 -219954231530 -2545767\n",
       "1 -86208 -5001    24 -219951691034 -2545737\n",
       "2 -86207 -5000     2 -219949157263 -2545708\n",
       "3 -86206 -5000     4 -219946626852 -2545679\n",
       "4 -86205 -5000     6 -219944096614 -2545649"
      ]
     },
     "execution_count": 103,
     "metadata": {},
     "output_type": "execute_result"
    }
   ],
   "source": [
    "lu_df: pd.DataFrame = pd.read_csv(lu_path)\n",
    "lu_va: pd.Series = lu_df['nian'].between(MIN, MAX)\n",
    "cyue: pd.Series = lu_df['cyue']\n",
    "lu_df['uday'] = (lu_df['usec'] + 28800) // 86400\n",
    "uday: pd.Series = lu_df['uday']\n",
    "lu_df.head()"
   ]
  },
  {
   "cell_type": "markdown",
   "metadata": {},
   "source": [
    "### 1.1. N2G: (`nian`, `ryue`) to `cyue` to uday"
   ]
  },
  {
   "cell_type": "markdown",
   "metadata": {},
   "source": [
    "#### 1.1.1. `nian` to `run`"
   ]
  },
  {
   "cell_type": "code",
   "execution_count": 104,
   "metadata": {},
   "outputs": [
    {
     "name": "stdout",
     "output_type": "stream",
     "text": [
      "5708 runs\n"
     ]
    }
   ],
   "source": [
    "nr_ryue: pd.Series = lu_df['ryue']\n",
    "nr_rn: pd.Series = (lu_df['ryue'] & 1).astype(np.bool)\n",
    "nr_nian: pd.Series = lu_df['nian'][nr_rn]\n",
    "nr_ry: pd.Series = nr_ryue[nr_rn] // 2\n",
    "nr_dc: dict[int, int] = dict(zip(nr_nian, nr_ry))\n",
    "print(f'{len(nr_dc)} runs')"
   ]
  },
  {
   "cell_type": "code",
   "execution_count": 105,
   "metadata": {},
   "outputs": [
    {
     "name": "stdout",
     "output_type": "stream",
     "text": [
      "7500 bytes\n"
     ]
    }
   ],
   "source": [
    "NR_BIT, NR_IPB = 4, 2\n",
    "NR_IPL: int = NR_IPB * BPL\n",
    "nr_cnt_va: int = (MAX - MIN + 1) + (MIN - MAX - 1) % NR_IPL\n",
    "nr_ry_bt: list[int] = []\n",
    "for i in range(0, nr_cnt_va, NR_IPB):\n",
    "    bt: int = 0\n",
    "    for j in range(NR_IPB):\n",
    "        n: int = MIN + i + j\n",
    "        bt |= nr_dc.get(n, 13) << (j * NR_BIT)\n",
    "    nr_ry_bt.append(bt)\n",
    "nr_ry_np: UInt8s = np.array(nr_ry_bt, dtype=np.uint8)\n",
    "nr_ry_np = nr_ry_np.reshape((-1, BPL))\n",
    "nr_ry_ln: list[list[int]] = nr_ry_np.tolist()\n",
    "print(f'{len(nr_ry_bt)} bytes')"
   ]
  },
  {
   "cell_type": "markdown",
   "metadata": {},
   "source": [
    "#### 1.1.2. `nian` to `cyue`: linear (1-deg) regression"
   ]
  },
  {
   "cell_type": "code",
   "execution_count": 106,
   "metadata": {},
   "outputs": [
    {
     "name": "stdout",
     "output_type": "stream",
     "text": [
      "cyue = 12.368273905932467 * (nian - -5000) + -86206.92050499133\n"
     ]
    }
   ],
   "source": [
    "ny_va: pd.Series = lu_df['ryue'] == 2\n",
    "ny_nian: pd.Series = lu_df['nian'][ny_va]\n",
    "ny_expl: pd.Series = ny_nian - MIN\n",
    "ny_dp01: pd.Series = lu_df['cyue'][ny_va]\n",
    "ny_coef: Floats = np.polyfit(x=ny_expl, y=ny_dp01, deg=1)\n",
    "ny_c1, ny_c0 = tp.cast(list[float], ny_coef.tolist())\n",
    "print(f'cyue = {ny_c1} * (nian - {MIN}) + {ny_c0}')"
   ]
  },
  {
   "cell_type": "code",
   "execution_count": 107,
   "metadata": {},
   "outputs": [
    {
     "name": "stdout",
     "output_type": "stream",
     "text": [
      "12 0.3682739059324671 -86207 0.07949500867107417\n"
     ]
    }
   ],
   "source": [
    "ny_c1i, ny_c1f = int_frac(ny_c1)\n",
    "ny_c0i, ny_c0f = int_frac(ny_c0)\n",
    "print(ny_c1i, ny_c1f, ny_c0i, ny_c0f)"
   ]
  },
  {
   "cell_type": "code",
   "execution_count": 108,
   "metadata": {},
   "outputs": [
    {
     "name": "stdout",
     "output_type": "stream",
     "text": [
      "cyue = 12 * nian + -26207 + (12067 * nian + 60337604 >> 15)\n",
      "resd in range(0, 2)\n"
     ]
    }
   ],
   "source": [
    "NY_BIT, NY_IPB = 1, 8\n",
    "for ny_bits in range(32):\n",
    "    ny_c0ib: int = ny_c0i\n",
    "    ny_c1bi, _ = int_frac(ny_c1f * (1 << ny_bits))\n",
    "    ny_c0bi, _ = int_frac(ny_c0f * (1 << ny_bits))\n",
    "    ny_pred: pd.Series = ny_c1i * ny_expl + ny_c0i\n",
    "    ny_bias: pd.Series = ny_c1bi * ny_expl + ny_c0bi\n",
    "    ny_pred += ny_bias // (1 << ny_bits)\n",
    "    ny_resd: pd.Series = ny_dp01 - ny_pred\n",
    "    if ny_resd.max() - ny_resd.min() < (1 << NY_BIT):\n",
    "        ny_c0ib += ny_resd.min() - ny_c1i * MIN\n",
    "        ny_c0bi -= ny_c1bi * MIN\n",
    "        ny_resd -= ny_resd.min()\n",
    "        print(f'cyue = {ny_c1i} * nian + {ny_c0ib}', end=' + ')\n",
    "        print(f'({ny_c1bi} * nian + {ny_c0bi} >> {ny_bits})')\n",
    "        print(f'resd in {range(ny_resd.min(), ny_resd.max() + 1)}')\n",
    "        break\n",
    "else:\n",
    "    raise ValueError('bad idea, residuals too wide')"
   ]
  },
  {
   "cell_type": "code",
   "execution_count": 109,
   "metadata": {},
   "outputs": [
    {
     "name": "stdout",
     "output_type": "stream",
     "text": [
      "1884 bytes\n"
     ]
    }
   ],
   "source": [
    "NY_IPL: int = NY_IPB * BPL\n",
    "ny_va: pd.Series = ny_nian.between(MIN, MAX)\n",
    "ny_cnt_va: int = ny_va.sum() + 1 + (-(ny_va.sum() + 1) % NY_IPL)\n",
    "ny_resd_va: pd.Series = ny_resd[ny_nian >= MIN].iloc[:ny_cnt_va]\n",
    "ny_resd_bt: list[int] = []\n",
    "for i in range(0, len(ny_resd_va), NY_IPB):\n",
    "    bt: int = 0\n",
    "    for j, r in enumerate(ny_resd_va.iloc[i:i+NY_IPB]):\n",
    "        bt |= r << (j * NY_BIT)\n",
    "    ny_resd_bt.append(bt)\n",
    "ny_resd_np: UInt8s = np.array(ny_resd_bt, dtype=np.uint8)\n",
    "ny_resd_np = ny_resd_np.reshape((-1, BPL))\n",
    "ny_resd_ln: list[list[int]] = ny_resd_np.tolist()\n",
    "print(f'{len(ny_resd_bt)} bytes')"
   ]
  },
  {
   "cell_type": "markdown",
   "metadata": {},
   "source": [
    "#### 1.1.3. `cyue` to uday: linear (1-deg) regression"
   ]
  },
  {
   "cell_type": "code",
   "execution_count": 110,
   "metadata": {},
   "outputs": [
    {
     "name": "stdout",
     "output_type": "stream",
     "text": [
      "uday = 29.53058513341781 * cyue + 35.7110938177826\n"
     ]
    }
   ],
   "source": [
    "yd_coef: Floats = np.polyfit(x=cyue, y=uday, deg=1)\n",
    "yd_c1, yd_c0 = tp.cast(list[float], yd_coef.tolist())\n",
    "print(f'uday = {yd_c1} * cyue + {yd_c0}')"
   ]
  },
  {
   "cell_type": "code",
   "execution_count": 111,
   "metadata": {},
   "outputs": [
    {
     "name": "stdout",
     "output_type": "stream",
     "text": [
      "29 0.5305851334178087 35 0.7110938177825972\n"
     ]
    }
   ],
   "source": [
    "yd_c1i, yd_c1f = int_frac(yd_c1)\n",
    "yd_c0i, yd_c0f = int_frac(yd_c0)\n",
    "print(yd_c1i, yd_c1f, yd_c0i, yd_c0f)"
   ]
  },
  {
   "cell_type": "code",
   "execution_count": 112,
   "metadata": {},
   "outputs": [
    {
     "name": "stdout",
     "output_type": "stream",
     "text": [
      "uday = 29 * cyue + 34 + (278179 * cyue + 372817 >> 19)\n",
      "resd in range(0, 4)\n"
     ]
    }
   ],
   "source": [
    "YD_BIT, YD_IPB = 2, 4\n",
    "for yd_bits in range(64):\n",
    "    yd_c1bi, _ = int_frac(yd_c1f * (1 << yd_bits))\n",
    "    yd_c0bi, _ = int_frac(yd_c0f * (1 << yd_bits))\n",
    "    yd_pred: pd.Series = yd_c1i * cyue + yd_c0i\n",
    "    yd_bias: pd.Series = yd_c1bi * cyue + yd_c0bi\n",
    "    yd_pred += yd_bias // (1 << yd_bits)\n",
    "    yd_resd: pd.Series = uday - yd_pred\n",
    "    if yd_resd.max() - yd_resd.min() < 1 << YD_BIT:\n",
    "        yd_c0i += yd_resd.min()\n",
    "        yd_resd -= yd_resd.min()\n",
    "        print(f'uday = {yd_c1i} * cyue + {yd_c0i}', end=' + ')\n",
    "        print(f'({yd_c1bi} * cyue + {yd_c0bi} >> {yd_bits})')\n",
    "        print(f'resd in {range(yd_resd.min(), yd_resd.max() + 1)}')\n",
    "        break\n",
    "else:\n",
    "    raise ValueError('bad idea, residuals too wide')"
   ]
  },
  {
   "cell_type": "code",
   "execution_count": 113,
   "metadata": {},
   "outputs": [
    {
     "name": "stdout",
     "output_type": "stream",
     "text": [
      "46392 bytes\n"
     ]
    }
   ],
   "source": [
    "YD_IPL: int = YD_IPB * BPL\n",
    "yd_cnt_va: int = lu_va.sum() + 1 + (-(lu_va.sum() + 1) % YD_IPL)\n",
    "yd_va: pd.Series = lu_df['nian'] >= MIN\n",
    "yd_resd_va: pd.Series = yd_resd[yd_va].iloc[:yd_cnt_va]\n",
    "yd_resd_bt: list[int] = []\n",
    "for i in range(0, len(yd_resd_va), YD_IPB):\n",
    "    bt: int = 0\n",
    "    for j, r in enumerate(yd_resd_va.iloc[i:i+YD_IPB]):\n",
    "        bt |= r << (j * YD_BIT)\n",
    "    yd_resd_bt.append(bt)\n",
    "yd_resd_np: UInt8s = np.array(yd_resd_bt, dtype=np.uint8)\n",
    "yd_resd_np = yd_resd_np.reshape((-1, BPL))\n",
    "yd_resd_ln: list[list[int]] = yd_resd_np.tolist()\n",
    "print(f'{len(yd_resd_bt)} bytes')"
   ]
  },
  {
   "cell_type": "markdown",
   "metadata": {},
   "source": [
    "### 1.2. G2N: uday to `cyue` to (`nian`, `ryue`)"
   ]
  },
  {
   "cell_type": "markdown",
   "metadata": {},
   "source": [
    "#### 1.2.1. uday to `cyue`: linear (1-deg) regression"
   ]
  },
  {
   "cell_type": "code",
   "execution_count": 114,
   "metadata": {},
   "outputs": [
    {
     "name": "stdout",
     "output_type": "stream",
     "text": [
      "cyue = 0.03386319625845294 * cday + -0.7092917774042613\n"
     ]
    }
   ],
   "source": [
    "dy_coef: Floats = np.polyfit(x=uday, y=cyue, deg=1)\n",
    "dy_c1, dy_c0 = tp.cast(list[float], dy_coef.tolist())\n",
    "dy_c0 += 0.5 # it is midpoint that is to be predicted\n",
    "print(f'cyue = {dy_c1} * cday + {dy_c0}')"
   ]
  },
  {
   "cell_type": "code",
   "execution_count": 115,
   "metadata": {},
   "outputs": [
    {
     "name": "stdout",
     "output_type": "stream",
     "text": [
      "0.03386319625845294 -1 0.2907082225957387\n"
     ]
    }
   ],
   "source": [
    "_, dy_c1f = int_frac(dy_c1)\n",
    "dy_c0i, dy_c0f = int_frac(dy_c0)\n",
    "print(dy_c1f, dy_c0i, dy_c0f)"
   ]
  },
  {
   "cell_type": "code",
   "execution_count": 116,
   "metadata": {},
   "outputs": [
    {
     "name": "stdout",
     "output_type": "stream",
     "text": [
      "cyue = -1 + (8877 * uday + 76207 >> 18)\n"
     ]
    }
   ],
   "source": [
    "for dy_bits in range(64):\n",
    "    dy_c1bi, _ = int_frac(dy_c1f * (1 << dy_bits))\n",
    "    dy_c0bi, _ = int_frac(dy_c0f * (1 << dy_bits))\n",
    "    dy_bias: pd.Series = dy_c1bi * uday + dy_c0bi\n",
    "    dy_pred: pd.Series = dy_c0i + dy_bias // (1 << dy_bits)\n",
    "    if np.all(dy_pred == cyue):\n",
    "        print(f'cyue = {dy_c0i}', end=' + ')\n",
    "        print(f'({dy_c1bi} * uday + {dy_c0bi} >> {dy_bits})')\n",
    "        break\n",
    "else:\n",
    "    raise ValueError('bad idea, residuals too wide')"
   ]
  },
  {
   "cell_type": "markdown",
   "metadata": {},
   "source": [
    "#### 1.2.2. `cyue` to `nian`: linear (1-deg) regression"
   ]
  },
  {
   "cell_type": "code",
   "execution_count": 117,
   "metadata": {},
   "outputs": [
    {
     "name": "stdout",
     "output_type": "stream",
     "text": [
      "nian = 0.0808520257214669 * cyue + 1970.5041542503538\n"
     ]
    }
   ],
   "source": [
    "yn_cyue: pd.Series = lu_df['cyue'][lu_df['ryue'] == 2]\n",
    "yn_nian: pd.Series = lu_df['nian'][lu_df['ryue'] == 2]\n",
    "yn_coef: Floats = np.polyfit(x=yn_cyue, y=yn_nian, deg=1)\n",
    "yn_c1, yn_c0 = tp.cast(list[float], yn_coef.tolist())\n",
    "yn_c0 += 0.5 # similarly, midpoints are considered\n",
    "print(f'nian = {yn_c1} * cyue + {yn_c0}')"
   ]
  },
  {
   "cell_type": "code",
   "execution_count": 118,
   "metadata": {},
   "outputs": [
    {
     "name": "stdout",
     "output_type": "stream",
     "text": [
      "0.0808520257214669 1970 0.5041542503538494\n"
     ]
    }
   ],
   "source": [
    "_, yn_c1f = int_frac(yn_c1)\n",
    "yn_c0i, yn_c0f = int_frac(yn_c0)\n",
    "print(yn_c1f, yn_c0i, yn_c0f)"
   ]
  },
  {
   "cell_type": "code",
   "execution_count": 119,
   "metadata": {},
   "outputs": [
    {
     "name": "stdout",
     "output_type": "stream",
     "text": [
      "nian = 1970 + (10597 * cyue + 66080 >> 17)\n"
     ]
    }
   ],
   "source": [
    "for yn_bits in range(64):\n",
    "    yn_c1bi, _ = int_frac(yn_c1f * (1 << yn_bits))\n",
    "    yn_c0bi, _ = int_frac(yn_c0f * (1 << yn_bits))\n",
    "    yn_bias: pd.Series = yn_c1bi * yn_cyue + yn_c0bi\n",
    "    yn_pred: pd.Series = yn_c0i + yn_bias // (1 << yn_bits)\n",
    "    if np.all(yn_pred == yn_nian):\n",
    "        print(f'nian = {yn_c0i}', end=' + ')\n",
    "        print(f'({yn_c1bi} * cyue + {yn_c0bi} >> {yn_bits})')\n",
    "        break\n",
    "else:\n",
    "    raise ValueError('bad idea, residuals too wide')"
   ]
  }
 ],
 "metadata": {
  "kernelspec": {
   "display_name": "Nongli",
   "language": "python",
   "name": "python3"
  },
  "language_info": {
   "codemirror_mode": {
    "name": "ipython",
    "version": 3
   },
   "file_extension": ".py",
   "mimetype": "text/x-python",
   "name": "python",
   "nbconvert_exporter": "python",
   "pygments_lexer": "ipython3",
   "version": "3.12.8"
  }
 },
 "nbformat": 4,
 "nbformat_minor": 2
}
