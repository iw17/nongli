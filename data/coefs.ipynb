{
 "cells": [
  {
   "cell_type": "markdown",
   "metadata": {},
   "source": [
    "# Coefficients & Residuals"
   ]
  },
  {
   "cell_type": "code",
   "execution_count": 63,
   "metadata": {},
   "outputs": [],
   "source": [
    "import os\n",
    "import typing as tp"
   ]
  },
  {
   "cell_type": "code",
   "execution_count": 64,
   "metadata": {},
   "outputs": [],
   "source": [
    "import numpy as np\n",
    "import pandas as pd\n",
    "from numpy.typing import NDArray"
   ]
  },
  {
   "cell_type": "code",
   "execution_count": 65,
   "metadata": {},
   "outputs": [],
   "source": [
    "UInt8s: tp.TypeAlias = NDArray[np.uint8]\n",
    "Int64s: tp.TypeAlias = NDArray[np.int64]\n",
    "Floats: tp.TypeAlias = NDArray[np.float64]"
   ]
  },
  {
   "cell_type": "markdown",
   "metadata": {},
   "source": [
    "## 0. Meta"
   ]
  },
  {
   "cell_type": "code",
   "execution_count": 66,
   "metadata": {},
   "outputs": [],
   "source": [
    "MIN: int = -5000\n",
    "MAX: int = 9999\n",
    "BPL: int = 12"
   ]
  },
  {
   "cell_type": "code",
   "execution_count": 67,
   "metadata": {},
   "outputs": [],
   "source": [
    "here: str = os.path.abspath('')\n",
    "csv_dir: str = os.path.join(here, 'build')\n",
    "lu_path: str = os.path.join(csv_dir, 'lunar.csv')\n",
    "so_path: str = os.path.join(csv_dir, 'solar.csv')"
   ]
  },
  {
   "cell_type": "code",
   "execution_count": 68,
   "metadata": {},
   "outputs": [],
   "source": [
    "def int_frac(x: float) -> tuple[int, float]:\n",
    "    '''\n",
    "    Splits a float to integral and fractional parts.\n",
    "\n",
    "    Args:\n",
    "        x (float): input floating-point value\n",
    "    Returns:\n",
    "        int: the maximal integer `i <= x`\n",
    "        float: `x - i` in [0, 1)\n",
    "    '''\n",
    "\n",
    "    xi, xf = divmod(x, 1)\n",
    "    return int(xi), xf"
   ]
  },
  {
   "cell_type": "markdown",
   "metadata": {},
   "source": [
    "## 1. Lunar"
   ]
  },
  {
   "cell_type": "markdown",
   "metadata": {},
   "source": [
    "### 1.0. Data"
   ]
  },
  {
   "cell_type": "code",
   "execution_count": 69,
   "metadata": {},
   "outputs": [
    {
     "data": {
      "text/html": [
       "<div>\n",
       "<style scoped>\n",
       "    .dataframe tbody tr th:only-of-type {\n",
       "        vertical-align: middle;\n",
       "    }\n",
       "\n",
       "    .dataframe tbody tr th {\n",
       "        vertical-align: top;\n",
       "    }\n",
       "\n",
       "    .dataframe thead th {\n",
       "        text-align: right;\n",
       "    }\n",
       "</style>\n",
       "<table border=\"1\" class=\"dataframe\">\n",
       "  <thead>\n",
       "    <tr style=\"text-align: right;\">\n",
       "      <th></th>\n",
       "      <th>cyue</th>\n",
       "      <th>nian</th>\n",
       "      <th>ryue</th>\n",
       "      <th>usec</th>\n",
       "      <th>uday</th>\n",
       "    </tr>\n",
       "  </thead>\n",
       "  <tbody>\n",
       "    <tr>\n",
       "      <th>0</th>\n",
       "      <td>-86209</td>\n",
       "      <td>-5001</td>\n",
       "      <td>22</td>\n",
       "      <td>-219954231530</td>\n",
       "      <td>-2545767</td>\n",
       "    </tr>\n",
       "    <tr>\n",
       "      <th>1</th>\n",
       "      <td>-86208</td>\n",
       "      <td>-5001</td>\n",
       "      <td>24</td>\n",
       "      <td>-219951691034</td>\n",
       "      <td>-2545737</td>\n",
       "    </tr>\n",
       "    <tr>\n",
       "      <th>2</th>\n",
       "      <td>-86207</td>\n",
       "      <td>-5000</td>\n",
       "      <td>2</td>\n",
       "      <td>-219949157263</td>\n",
       "      <td>-2545708</td>\n",
       "    </tr>\n",
       "    <tr>\n",
       "      <th>3</th>\n",
       "      <td>-86206</td>\n",
       "      <td>-5000</td>\n",
       "      <td>4</td>\n",
       "      <td>-219946626852</td>\n",
       "      <td>-2545679</td>\n",
       "    </tr>\n",
       "    <tr>\n",
       "      <th>4</th>\n",
       "      <td>-86205</td>\n",
       "      <td>-5000</td>\n",
       "      <td>6</td>\n",
       "      <td>-219944096614</td>\n",
       "      <td>-2545649</td>\n",
       "    </tr>\n",
       "  </tbody>\n",
       "</table>\n",
       "</div>"
      ],
      "text/plain": [
       "    cyue  nian  ryue          usec     uday\n",
       "0 -86209 -5001    22 -219954231530 -2545767\n",
       "1 -86208 -5001    24 -219951691034 -2545737\n",
       "2 -86207 -5000     2 -219949157263 -2545708\n",
       "3 -86206 -5000     4 -219946626852 -2545679\n",
       "4 -86205 -5000     6 -219944096614 -2545649"
      ]
     },
     "execution_count": 69,
     "metadata": {},
     "output_type": "execute_result"
    }
   ],
   "source": [
    "lu_df: pd.DataFrame = pd.read_csv(lu_path)\n",
    "lu_va: pd.Series = lu_df['nian'].between(MIN, MAX)\n",
    "cyue: pd.Series = lu_df['cyue']\n",
    "lu_df['uday'] = (lu_df['usec'] + 28800) // 86400\n",
    "uday: pd.Series = lu_df['uday']\n",
    "lu_df.head()"
   ]
  },
  {
   "cell_type": "markdown",
   "metadata": {},
   "source": [
    "### 1.1. N2G: (`nian`, `ryue`) to `cyue` to uday"
   ]
  },
  {
   "cell_type": "markdown",
   "metadata": {},
   "source": [
    "#### 1.1.1. `nian` to `run`"
   ]
  },
  {
   "cell_type": "code",
   "execution_count": 70,
   "metadata": {},
   "outputs": [
    {
     "name": "stdout",
     "output_type": "stream",
     "text": [
      "5708 runs\n"
     ]
    }
   ],
   "source": [
    "nr_ryue: pd.Series = lu_df['ryue']\n",
    "nr_rn: pd.Series = (lu_df['ryue'] & 1).astype(np.bool)\n",
    "nr_nian: pd.Series = lu_df['nian'][nr_rn]\n",
    "nr_ry: pd.Series = nr_ryue[nr_rn] // 2\n",
    "nr_dc: dict[int, int] = dict(zip(nr_nian, nr_ry))\n",
    "print(f'{len(nr_dc)} runs')"
   ]
  },
  {
   "cell_type": "code",
   "execution_count": 71,
   "metadata": {},
   "outputs": [
    {
     "name": "stdout",
     "output_type": "stream",
     "text": [
      "7500 bytes\n"
     ]
    }
   ],
   "source": [
    "NR_BIT, NR_IPB = 4, 2\n",
    "NR_IPL: int = NR_IPB * BPL\n",
    "nr_cnt_va: int = (MAX - MIN + 1) + (MIN - MAX - 1) % NR_IPL\n",
    "nr_ry_bt: list[int] = []\n",
    "for i in range(0, nr_cnt_va, NR_IPB):\n",
    "    bt: int = 0\n",
    "    for j in range(NR_IPB):\n",
    "        n: int = MIN + i + j\n",
    "        bt |= nr_dc.get(n, 13) << (j * NR_BIT)\n",
    "    nr_ry_bt.append(bt)\n",
    "nr_ry_np: UInt8s = np.array(nr_ry_bt, dtype=np.uint8)\n",
    "nr_ry_np = nr_ry_np.reshape((-1, BPL))\n",
    "nr_ry_ln: list[list[int]] = nr_ry_np.tolist()\n",
    "print(f'{len(nr_ry_bt)} bytes')"
   ]
  },
  {
   "cell_type": "markdown",
   "metadata": {},
   "source": [
    "#### 1.1.2. `nian` to `cyue`: linear (1-deg) regression"
   ]
  },
  {
   "cell_type": "code",
   "execution_count": 72,
   "metadata": {},
   "outputs": [
    {
     "name": "stdout",
     "output_type": "stream",
     "text": [
      "cyue = 12.368273905932467 * (nian - -5000) + -86206.92050499133\n"
     ]
    }
   ],
   "source": [
    "ny_va: pd.Series = lu_df['ryue'] == 2\n",
    "ny_nian: pd.Series = lu_df['nian'][ny_va]\n",
    "ny_expl: pd.Series = ny_nian - MIN\n",
    "ny_dp01: pd.Series = lu_df['cyue'][ny_va]\n",
    "ny_coef: Floats = np.polyfit(x=ny_expl, y=ny_dp01, deg=1)\n",
    "ny_c1, ny_c0 = tp.cast(list[float], ny_coef.tolist())\n",
    "print(f'cyue = {ny_c1} * (nian - {MIN}) + {ny_c0}')"
   ]
  },
  {
   "cell_type": "code",
   "execution_count": 73,
   "metadata": {},
   "outputs": [
    {
     "name": "stdout",
     "output_type": "stream",
     "text": [
      "12 0.3682739059324671 -86207 0.07949500867107417\n"
     ]
    }
   ],
   "source": [
    "ny_c1i, ny_c1f = int_frac(ny_c1)\n",
    "ny_c0i, ny_c0f = int_frac(ny_c0)\n",
    "print(ny_c1i, ny_c1f, ny_c0i, ny_c0f)"
   ]
  },
  {
   "cell_type": "code",
   "execution_count": 74,
   "metadata": {},
   "outputs": [
    {
     "name": "stdout",
     "output_type": "stream",
     "text": [
      "cyue = 12 * nian + -26207 + (12067 * nian + 60337604 >> 15)\n",
      "resd in range(0, 2)\n"
     ]
    }
   ],
   "source": [
    "NY_BIT, NY_IPB = 1, 8\n",
    "for ny_bits in range(32):\n",
    "    ny_c0ib: int = ny_c0i\n",
    "    ny_c1bi, _ = int_frac(ny_c1f * (1 << ny_bits))\n",
    "    ny_c0bi, _ = int_frac(ny_c0f * (1 << ny_bits))\n",
    "    ny_pred: pd.Series = ny_c1i * ny_expl + ny_c0i\n",
    "    ny_bias: pd.Series = ny_c1bi * ny_expl + ny_c0bi\n",
    "    ny_pred += ny_bias // (1 << ny_bits)\n",
    "    ny_resd: pd.Series = ny_dp01 - ny_pred\n",
    "    if ny_resd.max() - ny_resd.min() < (1 << NY_BIT):\n",
    "        ny_c0ib += ny_resd.min() - ny_c1i * MIN\n",
    "        ny_c0bi -= ny_c1bi * MIN\n",
    "        ny_resd -= ny_resd.min()\n",
    "        print(f'cyue = {ny_c1i} * nian + {ny_c0ib}', end=' + ')\n",
    "        print(f'({ny_c1bi} * nian + {ny_c0bi} >> {ny_bits})')\n",
    "        print(f'resd in {range(ny_resd.min(), ny_resd.max() + 1)}')\n",
    "        break\n",
    "else:\n",
    "    raise ValueError('bad idea, residuals too wide')"
   ]
  },
  {
   "cell_type": "code",
   "execution_count": 75,
   "metadata": {},
   "outputs": [
    {
     "name": "stdout",
     "output_type": "stream",
     "text": [
      "1884 bytes\n"
     ]
    }
   ],
   "source": [
    "NY_IPL: int = NY_IPB * BPL\n",
    "ny_va: pd.Series = ny_nian.between(MIN, MAX)\n",
    "ny_cnt_va: int = ny_va.sum() + 1 + (-(ny_va.sum() + 1) % NY_IPL)\n",
    "ny_resd_va: pd.Series = ny_resd[ny_nian >= MIN].iloc[:ny_cnt_va]\n",
    "ny_resd_bt: list[int] = []\n",
    "for i in range(0, len(ny_resd_va), NY_IPB):\n",
    "    bt: int = 0\n",
    "    for j, r in enumerate(ny_resd_va.iloc[i:i+NY_IPB]):\n",
    "        bt |= r << (j * NY_BIT)\n",
    "    ny_resd_bt.append(bt)\n",
    "ny_resd_np: UInt8s = np.array(ny_resd_bt, dtype=np.uint8)\n",
    "ny_resd_np = ny_resd_np.reshape((-1, BPL))\n",
    "ny_resd_ln: list[list[int]] = ny_resd_np.tolist()\n",
    "print(f'{len(ny_resd_bt)} bytes')"
   ]
  },
  {
   "cell_type": "markdown",
   "metadata": {},
   "source": [
    "#### 1.1.3. `cyue` to uday: linear (1-deg) regression"
   ]
  },
  {
   "cell_type": "code",
   "execution_count": 76,
   "metadata": {},
   "outputs": [
    {
     "name": "stdout",
     "output_type": "stream",
     "text": [
      "uday = 29.53058513341781 * cyue + 35.7110938177826\n"
     ]
    }
   ],
   "source": [
    "yd_coef: Floats = np.polyfit(x=cyue, y=uday, deg=1)\n",
    "yd_c1, yd_c0 = tp.cast(list[float], yd_coef.tolist())\n",
    "print(f'uday = {yd_c1} * cyue + {yd_c0}')"
   ]
  },
  {
   "cell_type": "code",
   "execution_count": 77,
   "metadata": {},
   "outputs": [
    {
     "name": "stdout",
     "output_type": "stream",
     "text": [
      "29 0.5305851334178087 35 0.7110938177825972\n"
     ]
    }
   ],
   "source": [
    "yd_c1i, yd_c1f = int_frac(yd_c1)\n",
    "yd_c0i, yd_c0f = int_frac(yd_c0)\n",
    "print(yd_c1i, yd_c1f, yd_c0i, yd_c0f)"
   ]
  },
  {
   "cell_type": "code",
   "execution_count": 78,
   "metadata": {},
   "outputs": [
    {
     "name": "stdout",
     "output_type": "stream",
     "text": [
      "uday = 29 * cyue + 34 + (278179 * cyue + 372817 >> 19)\n",
      "resd in range(0, 4)\n"
     ]
    }
   ],
   "source": [
    "YD_BIT, YD_IPB = 2, 4\n",
    "for yd_bits in range(64):\n",
    "    yd_c1bi, _ = int_frac(yd_c1f * (1 << yd_bits))\n",
    "    yd_c0bi, _ = int_frac(yd_c0f * (1 << yd_bits))\n",
    "    yd_pred: pd.Series = yd_c1i * cyue + yd_c0i\n",
    "    yd_bias: pd.Series = yd_c1bi * cyue + yd_c0bi\n",
    "    yd_pred += yd_bias // (1 << yd_bits)\n",
    "    yd_resd: pd.Series = uday - yd_pred\n",
    "    if yd_resd.max() - yd_resd.min() < 1 << YD_BIT:\n",
    "        yd_c0i += yd_resd.min()\n",
    "        yd_resd -= yd_resd.min()\n",
    "        print(f'uday = {yd_c1i} * cyue + {yd_c0i}', end=' + ')\n",
    "        print(f'({yd_c1bi} * cyue + {yd_c0bi} >> {yd_bits})')\n",
    "        print(f'resd in {range(yd_resd.min(), yd_resd.max() + 1)}')\n",
    "        break\n",
    "else:\n",
    "    raise ValueError('bad idea, residuals too wide')"
   ]
  },
  {
   "cell_type": "code",
   "execution_count": 79,
   "metadata": {},
   "outputs": [
    {
     "name": "stdout",
     "output_type": "stream",
     "text": [
      "46392 bytes\n"
     ]
    }
   ],
   "source": [
    "YD_IPL: int = YD_IPB * BPL\n",
    "yd_cnt_va: int = lu_va.sum() + 1 + (-(lu_va.sum() + 1) % YD_IPL)\n",
    "yd_va: pd.Series = lu_df['nian'] >= MIN\n",
    "yd_resd_va: pd.Series = yd_resd[yd_va].iloc[:yd_cnt_va]\n",
    "yd_resd_bt: list[int] = []\n",
    "for i in range(0, len(yd_resd_va), YD_IPB):\n",
    "    bt: int = 0\n",
    "    for j, r in enumerate(yd_resd_va.iloc[i:i+YD_IPB]):\n",
    "        bt |= r << (j * YD_BIT)\n",
    "    yd_resd_bt.append(bt)\n",
    "yd_resd_np: UInt8s = np.array(yd_resd_bt, dtype=np.uint8)\n",
    "yd_resd_np = yd_resd_np.reshape((-1, BPL))\n",
    "yd_resd_ln: list[list[int]] = yd_resd_np.tolist()\n",
    "print(f'{len(yd_resd_bt)} bytes')"
   ]
  },
  {
   "cell_type": "markdown",
   "metadata": {},
   "source": [
    "### 1.2. G2N: uday to `cyue` to (`nian`, `ryue`)"
   ]
  },
  {
   "cell_type": "markdown",
   "metadata": {},
   "source": [
    "#### 1.2.1. uday to `cyue`: linear (1-deg) regression"
   ]
  },
  {
   "cell_type": "code",
   "execution_count": 80,
   "metadata": {},
   "outputs": [
    {
     "name": "stdout",
     "output_type": "stream",
     "text": [
      "cyue = 0.03386319625845294 * cday + -0.7092917774042613\n"
     ]
    }
   ],
   "source": [
    "dy_coef: Floats = np.polyfit(x=uday, y=cyue, deg=1)\n",
    "dy_c1, dy_c0 = tp.cast(list[float], dy_coef.tolist())\n",
    "dy_c0 += 0.5 # it is midpoint that is to be predicted\n",
    "print(f'cyue = {dy_c1} * cday + {dy_c0}')"
   ]
  },
  {
   "cell_type": "code",
   "execution_count": 81,
   "metadata": {},
   "outputs": [
    {
     "name": "stdout",
     "output_type": "stream",
     "text": [
      "0.03386319625845294 -1 0.2907082225957387\n"
     ]
    }
   ],
   "source": [
    "_, dy_c1f = int_frac(dy_c1)\n",
    "dy_c0i, dy_c0f = int_frac(dy_c0)\n",
    "print(dy_c1f, dy_c0i, dy_c0f)"
   ]
  },
  {
   "cell_type": "code",
   "execution_count": 82,
   "metadata": {},
   "outputs": [
    {
     "name": "stdout",
     "output_type": "stream",
     "text": [
      "cyue = -1 + (8877 * uday + 76207 >> 18)\n"
     ]
    }
   ],
   "source": [
    "for dy_bits in range(64):\n",
    "    dy_c1bi, _ = int_frac(dy_c1f * (1 << dy_bits))\n",
    "    dy_c0bi, _ = int_frac(dy_c0f * (1 << dy_bits))\n",
    "    dy_bias: pd.Series = dy_c1bi * uday + dy_c0bi\n",
    "    dy_pred: pd.Series = dy_c0i + dy_bias // (1 << dy_bits)\n",
    "    if np.all(dy_pred == cyue):\n",
    "        print(f'cyue = {dy_c0i}', end=' + ')\n",
    "        print(f'({dy_c1bi} * uday + {dy_c0bi} >> {dy_bits})')\n",
    "        break\n",
    "else:\n",
    "    raise ValueError('bad idea, residuals too wide')"
   ]
  },
  {
   "cell_type": "markdown",
   "metadata": {},
   "source": [
    "#### 1.2.2. `cyue` to `nian`: linear (1-deg) regression"
   ]
  },
  {
   "cell_type": "code",
   "execution_count": 83,
   "metadata": {},
   "outputs": [
    {
     "name": "stdout",
     "output_type": "stream",
     "text": [
      "nian = 0.0808520257214669 * cyue + 1970.5041542503538\n"
     ]
    }
   ],
   "source": [
    "yn_cyue: pd.Series = lu_df['cyue'][lu_df['ryue'] == 2]\n",
    "yn_nian: pd.Series = lu_df['nian'][lu_df['ryue'] == 2]\n",
    "yn_coef: Floats = np.polyfit(x=yn_cyue, y=yn_nian, deg=1)\n",
    "yn_c1, yn_c0 = tp.cast(list[float], yn_coef.tolist())\n",
    "yn_c0 += 0.5 # similarly, midpoints are considered\n",
    "print(f'nian = {yn_c1} * cyue + {yn_c0}')"
   ]
  },
  {
   "cell_type": "code",
   "execution_count": 84,
   "metadata": {},
   "outputs": [
    {
     "name": "stdout",
     "output_type": "stream",
     "text": [
      "0.0808520257214669 1970 0.5041542503538494\n"
     ]
    }
   ],
   "source": [
    "_, yn_c1f = int_frac(yn_c1)\n",
    "yn_c0i, yn_c0f = int_frac(yn_c0)\n",
    "print(yn_c1f, yn_c0i, yn_c0f)"
   ]
  },
  {
   "cell_type": "code",
   "execution_count": 85,
   "metadata": {},
   "outputs": [
    {
     "name": "stdout",
     "output_type": "stream",
     "text": [
      "nian = 1970 + (10597 * cyue + 66080 >> 17)\n"
     ]
    }
   ],
   "source": [
    "for yn_bits in range(64):\n",
    "    yn_c1bi, _ = int_frac(yn_c1f * (1 << yn_bits))\n",
    "    yn_c0bi, _ = int_frac(yn_c0f * (1 << yn_bits))\n",
    "    yn_bias: pd.Series = yn_c1bi * yn_cyue + yn_c0bi\n",
    "    yn_pred: pd.Series = yn_c0i + yn_bias // (1 << yn_bits)\n",
    "    if np.all(yn_pred == yn_nian):\n",
    "        print(f'nian = {yn_c0i}', end=' + ')\n",
    "        print(f'({yn_c1bi} * cyue + {yn_c0bi} >> {yn_bits})')\n",
    "        break\n",
    "else:\n",
    "    raise ValueError('bad idea, residuals too wide')"
   ]
  },
  {
   "cell_type": "markdown",
   "metadata": {},
   "source": [
    "## 2. Solar"
   ]
  },
  {
   "cell_type": "markdown",
   "metadata": {},
   "source": [
    "### 2.0. Data"
   ]
  },
  {
   "cell_type": "code",
   "execution_count": 86,
   "metadata": {},
   "outputs": [
    {
     "data": {
      "text/html": [
       "<div>\n",
       "<style scoped>\n",
       "    .dataframe tbody tr th:only-of-type {\n",
       "        vertical-align: middle;\n",
       "    }\n",
       "\n",
       "    .dataframe tbody tr th {\n",
       "        vertical-align: top;\n",
       "    }\n",
       "\n",
       "    .dataframe thead th {\n",
       "        text-align: right;\n",
       "    }\n",
       "</style>\n",
       "<table border=\"1\" class=\"dataframe\">\n",
       "  <thead>\n",
       "    <tr style=\"text-align: right;\">\n",
       "      <th></th>\n",
       "      <th>cjie</th>\n",
       "      <th>sui</th>\n",
       "      <th>jie</th>\n",
       "      <th>usec</th>\n",
       "    </tr>\n",
       "  </thead>\n",
       "  <tbody>\n",
       "    <tr>\n",
       "      <th>0</th>\n",
       "      <td>-167280</td>\n",
       "      <td>-5000</td>\n",
       "      <td>0</td>\n",
       "      <td>-219953114960</td>\n",
       "    </tr>\n",
       "    <tr>\n",
       "      <th>1</th>\n",
       "      <td>-167279</td>\n",
       "      <td>-5000</td>\n",
       "      <td>1</td>\n",
       "      <td>-219951781386</td>\n",
       "    </tr>\n",
       "    <tr>\n",
       "      <th>2</th>\n",
       "      <td>-167278</td>\n",
       "      <td>-5000</td>\n",
       "      <td>2</td>\n",
       "      <td>-219950436354</td>\n",
       "    </tr>\n",
       "    <tr>\n",
       "      <th>3</th>\n",
       "      <td>-167277</td>\n",
       "      <td>-5000</td>\n",
       "      <td>3</td>\n",
       "      <td>-219949081820</td>\n",
       "    </tr>\n",
       "    <tr>\n",
       "      <th>4</th>\n",
       "      <td>-167276</td>\n",
       "      <td>-5000</td>\n",
       "      <td>4</td>\n",
       "      <td>-219947720330</td>\n",
       "    </tr>\n",
       "  </tbody>\n",
       "</table>\n",
       "</div>"
      ],
      "text/plain": [
       "     cjie   sui  jie          usec\n",
       "0 -167280 -5000    0 -219953114960\n",
       "1 -167279 -5000    1 -219951781386\n",
       "2 -167278 -5000    2 -219950436354\n",
       "3 -167277 -5000    3 -219949081820\n",
       "4 -167276 -5000    4 -219947720330"
      ]
     },
     "execution_count": 86,
     "metadata": {},
     "output_type": "execute_result"
    }
   ],
   "source": [
    "so_df: pd.DataFrame = pd.read_csv(so_path)\n",
    "cjie: pd.Series = so_df['cjie']\n",
    "suis: pd.Series = so_df['sui']\n",
    "jies: pd.Series = so_df['jie']\n",
    "usec: pd.Series = so_df['usec']\n",
    "so_va: pd.Series = suis.between(MIN, MAX)\n",
    "so_df.head()"
   ]
  },
  {
   "cell_type": "markdown",
   "metadata": {},
   "source": [
    "### 2.1. `shihou` to usec: sextic (6-deg) regression"
   ]
  },
  {
   "cell_type": "code",
   "execution_count": 87,
   "metadata": {},
   "outputs": [
    {
     "name": "stdout",
     "output_type": "stream",
     "text": [
      "coefficient matrix shape (24, 7)\n"
     ]
    }
   ],
   "source": [
    "ss_coef_ls: list[Floats] = []\n",
    "for jie in range(24):\n",
    "    ss_gr_suis: pd.Series = suis[jies == jie]\n",
    "    ss_gr_usec: pd.Series = usec[jies == jie]\n",
    "    ss_coef_gr: Floats = np.polyfit(x=ss_gr_suis, y=ss_gr_usec, deg=6)\n",
    "    ss_coef_ls.append(ss_coef_gr)\n",
    "ss_coef_np: Floats = np.array(ss_coef_ls, dtype=np.float64)\n",
    "ss_c0_np: Floats = ss_coef_np[:, -1]\n",
    "ss_c0m, _ = int_frac(ss_c0_np.min().item())\n",
    "ss_coef_np[:, -1] -= ss_c0m\n",
    "ss_c1_np: Floats = ss_coef_np[:, -2]\n",
    "ss_c1m, _ = int_frac(ss_c1_np.min().item())\n",
    "ss_coef_np[:, -2] -= ss_c1m\n",
    "print(f'coefficient matrix shape {ss_coef_np.shape}')"
   ]
  },
  {
   "cell_type": "code",
   "execution_count": 88,
   "metadata": {},
   "outputs": [
    {
     "name": "stdout",
     "output_type": "stream",
     "text": [
      "usec = 31556894 * sui + -62168131570 + (12 bits/deg)\n",
      "coefficient matrix shape (24, 7)\n",
      "resd in range(0, 3127)\n"
     ]
    }
   ],
   "source": [
    "SS_BIT: int = 12\n",
    "ss_va: pd.Series = suis >= MIN\n",
    "for ss_bits in range(32):\n",
    "    ss_shls: Floats = 2.0 ** (ss_bits * np.arange(6, -1, -1))\n",
    "    ss_cshl_np: Floats = ss_coef_np * ss_shls\n",
    "    ss_ci_np: Int64s = np.round(ss_cshl_np).astype(np.int64)\n",
    "    ss_rest_ls: list[list[int]] = []\n",
    "    ss_ress_ext_ls: list[int] = []\n",
    "    for jie in range(24):\n",
    "        ss_gr_suis: pd.Series = suis[jies == jie]\n",
    "        ss_gr_usec: pd.Series = usec[jies == jie]\n",
    "        ss_gr_c0, *su_gr_c1r = tp.cast(list[int], ss_ci_np[jie].tolist())\n",
    "        ss_gr_pr: pd.Series = 0 * ss_gr_suis + ss_gr_c0\n",
    "        for ci in su_gr_c1r:\n",
    "            ss_gr_pr = ss_gr_pr * ss_gr_suis // (1 << ss_bits) + ci\n",
    "        ss_gr_pr += ss_c1m * ss_gr_suis + ss_c0m\n",
    "        ss_gr_ress = ss_gr_usec - ss_gr_pr\n",
    "        ss_rest_ls.append(ss_gr_ress[ss_va].to_list())\n",
    "        ss_ress_ext_ls.append(ss_gr_ress.max() - ss_gr_ress.min())\n",
    "    if max(ss_ress_ext_ls) < 1 << SS_BIT:\n",
    "        ss_resm_ls: list[list[int]] = list(zip(*ss_rest_ls))\n",
    "        ss_resm_np: Int64s = np.array(ss_resm_ls, dtype=np.int64)\n",
    "        ss_resm_min: Int64s = ss_resm_np.min(axis=0)\n",
    "        ss_ci_np[:, -1] += 2 * (1 << SS_BIT) + ss_resm_min\n",
    "        ss_c0mb: int = ss_c0m - 2 * (1 << SS_BIT)\n",
    "        print(f'usec = {ss_c1m} * sui + {ss_c0mb} + ({ss_bits} bits/deg)')\n",
    "        print(f'coefficient matrix shape {ss_ci_np.shape}')\n",
    "        ss_resm_np -= ss_resm_min\n",
    "        print(f'resd in {range(ss_resm_np.min(), ss_resm_np.max() + 1)}')\n",
    "        break\n",
    "else:\n",
    "    raise ValueError('bad idea, residuals too wide')"
   ]
  },
  {
   "cell_type": "code",
   "execution_count": 89,
   "metadata": {},
   "outputs": [
    {
     "name": "stdout",
     "output_type": "stream",
     "text": [
      "540012 bytes\n"
     ]
    }
   ],
   "source": [
    "SS_IPL: int = SS_BIT * 8 // BPL\n",
    "ss_cnt_va: int = so_va.sum() + 1 + (-so_va.sum() - 1) % SS_IPL\n",
    "ss_ress_va: list[int] = ss_resm_np.ravel()[:ss_cnt_va].tolist()\n",
    "ss_ress_bt: list[int] = []\n",
    "# with SU_BIT == 12 == 1.5 bytes\n",
    "for old, new in zip(ss_ress_va[0::2], ss_ress_va[1::2]):\n",
    "    lo: int = old & 0xff\n",
    "    md: int = (old >> 8) | (new & 0x0f)\n",
    "    hi: int = new >> 4\n",
    "    ss_ress_bt.extend([lo, md, hi])\n",
    "ss_ress_np: UInt8s = np.array(ss_ress_bt, dtype=np.uint8)\n",
    "ss_ress_np = ss_ress_np.reshape((-1, BPL))\n",
    "SS_LPA: int = 1806 # let kindness spread\n",
    "ss_ress_ln: list[list[int]] = []\n",
    "for i in range(0, ss_ress_np.shape[0], SS_LPA):\n",
    "    ss_ress_ar: list[int] = ss_ress_np[i:i+SS_LPA].tolist()\n",
    "    ss_ress_ln.append(ss_ress_ar)\n",
    "print(f'{len(ss_ress_bt)} bytes')"
   ]
  },
  {
   "cell_type": "markdown",
   "metadata": {},
   "source": [
    "### 2.2. usec to `cjie`: linear (1-deg) regression"
   ]
  },
  {
   "cell_type": "code",
   "execution_count": 90,
   "metadata": {},
   "outputs": [
    {
     "name": "stdout",
     "output_type": "stream",
     "text": [
      "cjie = 7.605305803404133e-07 * usec + 1.2641291881802954\n"
     ]
    }
   ],
   "source": [
    "sj_coef: Floats = np.polyfit(x=usec, y=cjie, deg=1)\n",
    "sj_c1, sj_c0 = tp.cast(list[float], sj_coef.tolist())\n",
    "sj_c0 += 0.5\n",
    "print(f'cjie = {sj_c1} * usec + {sj_c0}')"
   ]
  },
  {
   "cell_type": "code",
   "execution_count": 91,
   "metadata": {},
   "outputs": [
    {
     "name": "stdout",
     "output_type": "stream",
     "text": [
      "7.605305803404133e-07 1 0.2641291881802954\n"
     ]
    }
   ],
   "source": [
    "_, sj_c1f = int_frac(sj_c1)\n",
    "sj_c0i, sj_c0f = int_frac(sj_c0)\n",
    "print(sj_c1f, sj_c0i, sj_c0f)"
   ]
  },
  {
   "cell_type": "code",
   "execution_count": 92,
   "metadata": {},
   "outputs": [
    {
     "name": "stdout",
     "output_type": "stream",
     "text": [
      "cjie = 1 + ((209053 * usec >> 19) + 138479 >> 19)\n"
     ]
    }
   ],
   "source": [
    "for sj_bits in range(32):\n",
    "    sj_c1bi, _ = int_frac(sj_c1f * (1 << (2 * sj_bits)))\n",
    "    sj_c0bi, _ = int_frac(sj_c0f * (1 << sj_bits))\n",
    "    sj_pred: pd.Series = (sj_c1bi * usec) // (1 << sj_bits)\n",
    "    sj_pred = (sj_pred + sj_c0bi) // (1 << sj_bits) + sj_c0i\n",
    "    if np.all(sj_pred == cjie):\n",
    "        print(f'cjie = {sj_c0i}', end=' + ')\n",
    "        print(f'(({sj_c1bi} * usec >> {sj_bits})', end=' + ')\n",
    "        print(f'{sj_c0bi} >> {sj_bits})')\n",
    "        break\n",
    "else:\n",
    "    raise ValueError('bad idea, residuals too wide')"
   ]
  }
 ],
 "metadata": {
  "kernelspec": {
   "display_name": "Nongli",
   "language": "python",
   "name": "python3"
  },
  "language_info": {
   "codemirror_mode": {
    "name": "ipython",
    "version": 3
   },
   "file_extension": ".py",
   "mimetype": "text/x-python",
   "name": "python",
   "nbconvert_exporter": "python",
   "pygments_lexer": "ipython3",
   "version": "3.12.8"
  }
 },
 "nbformat": 4,
 "nbformat_minor": 2
}
