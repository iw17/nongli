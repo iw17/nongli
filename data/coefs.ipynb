{
 "cells": [
  {
   "cell_type": "markdown",
   "metadata": {},
   "source": [
    "# Coefficients & Residuals"
   ]
  },
  {
   "cell_type": "code",
   "execution_count": 67,
   "metadata": {},
   "outputs": [],
   "source": [
    "import os\n",
    "import typing as tp"
   ]
  },
  {
   "cell_type": "code",
   "execution_count": 68,
   "metadata": {},
   "outputs": [],
   "source": [
    "import numpy as np\n",
    "import pandas as pd"
   ]
  },
  {
   "cell_type": "markdown",
   "metadata": {},
   "source": [
    "## 0. Meta"
   ]
  },
  {
   "cell_type": "code",
   "execution_count": 69,
   "metadata": {},
   "outputs": [],
   "source": [
    "MIN: int = -5000\n",
    "MAX: int = 9999\n",
    "BPL: int = 12"
   ]
  },
  {
   "cell_type": "code",
   "execution_count": 70,
   "metadata": {},
   "outputs": [],
   "source": [
    "here: str = os.path.abspath('')\n",
    "csv_dir: str = os.path.join(here, 'build')\n",
    "path_lu: str = os.path.join(csv_dir, 'lunar.csv')\n",
    "path_so: str = os.path.join(csv_dir, 'solar.csv')"
   ]
  },
  {
   "cell_type": "code",
   "execution_count": 71,
   "metadata": {},
   "outputs": [],
   "source": [
    "def int_frac(x: float) -> tuple[int, float]:\n",
    "    '''\n",
    "    Splits a float to integral and fractional parts.\n",
    "\n",
    "    Args:\n",
    "        x (float): input floating-point value\n",
    "    Returns:\n",
    "        int: the maximal integer `i <= x`\n",
    "        float: `x - i` in [0, 1)\n",
    "    '''\n",
    "\n",
    "    xi, xf = divmod(x, 1)\n",
    "    return int(xi), xf"
   ]
  },
  {
   "cell_type": "markdown",
   "metadata": {},
   "source": [
    "## 1. Lunar"
   ]
  },
  {
   "cell_type": "code",
   "execution_count": 72,
   "metadata": {},
   "outputs": [
    {
     "data": {
      "text/html": [
       "<div>\n",
       "<style scoped>\n",
       "    .dataframe tbody tr th:only-of-type {\n",
       "        vertical-align: middle;\n",
       "    }\n",
       "\n",
       "    .dataframe tbody tr th {\n",
       "        vertical-align: top;\n",
       "    }\n",
       "\n",
       "    .dataframe thead th {\n",
       "        text-align: right;\n",
       "    }\n",
       "</style>\n",
       "<table border=\"1\" class=\"dataframe\">\n",
       "  <thead>\n",
       "    <tr style=\"text-align: right;\">\n",
       "      <th></th>\n",
       "      <th>cyue</th>\n",
       "      <th>nian</th>\n",
       "      <th>ryue</th>\n",
       "      <th>usec</th>\n",
       "      <th>uday</th>\n",
       "    </tr>\n",
       "  </thead>\n",
       "  <tbody>\n",
       "    <tr>\n",
       "      <th>0</th>\n",
       "      <td>-86209</td>\n",
       "      <td>-5001</td>\n",
       "      <td>22</td>\n",
       "      <td>-219954231530</td>\n",
       "      <td>-2545767</td>\n",
       "    </tr>\n",
       "    <tr>\n",
       "      <th>1</th>\n",
       "      <td>-86208</td>\n",
       "      <td>-5001</td>\n",
       "      <td>24</td>\n",
       "      <td>-219951691034</td>\n",
       "      <td>-2545737</td>\n",
       "    </tr>\n",
       "    <tr>\n",
       "      <th>2</th>\n",
       "      <td>-86207</td>\n",
       "      <td>-5000</td>\n",
       "      <td>2</td>\n",
       "      <td>-219949157263</td>\n",
       "      <td>-2545708</td>\n",
       "    </tr>\n",
       "    <tr>\n",
       "      <th>3</th>\n",
       "      <td>-86206</td>\n",
       "      <td>-5000</td>\n",
       "      <td>4</td>\n",
       "      <td>-219946626852</td>\n",
       "      <td>-2545679</td>\n",
       "    </tr>\n",
       "    <tr>\n",
       "      <th>4</th>\n",
       "      <td>-86205</td>\n",
       "      <td>-5000</td>\n",
       "      <td>6</td>\n",
       "      <td>-219944096614</td>\n",
       "      <td>-2545649</td>\n",
       "    </tr>\n",
       "  </tbody>\n",
       "</table>\n",
       "</div>"
      ],
      "text/plain": [
       "    cyue  nian  ryue          usec     uday\n",
       "0 -86209 -5001    22 -219954231530 -2545767\n",
       "1 -86208 -5001    24 -219951691034 -2545737\n",
       "2 -86207 -5000     2 -219949157263 -2545708\n",
       "3 -86206 -5000     4 -219946626852 -2545679\n",
       "4 -86205 -5000     6 -219944096614 -2545649"
      ]
     },
     "execution_count": 72,
     "metadata": {},
     "output_type": "execute_result"
    }
   ],
   "source": [
    "df_lu: pd.DataFrame = pd.read_csv(path_lu)\n",
    "va_lu: pd.Series = df_lu['nian'].between(MIN, MAX)\n",
    "cyue: pd.Series = df_lu['cyue']\n",
    "df_lu['uday'] = (df_lu['usec'] + 28800) // 86400\n",
    "uday: pd.Series = df_lu['uday']\n",
    "df_lu.head()"
   ]
  },
  {
   "cell_type": "markdown",
   "metadata": {},
   "source": [
    "### 1.1. N2G: (`nian`, `ryue`) to `cyue` to uday"
   ]
  },
  {
   "cell_type": "markdown",
   "metadata": {},
   "source": [
    "#### 1.1.1. `nian` to `run`"
   ]
  },
  {
   "cell_type": "code",
   "execution_count": 73,
   "metadata": {},
   "outputs": [
    {
     "name": "stdout",
     "output_type": "stream",
     "text": [
      "5708 runs\n"
     ]
    }
   ],
   "source": [
    "ryue_nr: pd.Series = df_lu['ryue']\n",
    "rn_nr: pd.Series = (df_lu['ryue'] & 1).astype(np.bool)\n",
    "nian_nr: pd.Series = df_lu['nian'][rn_nr]\n",
    "ry_nr: pd.Series = ryue_nr[rn_nr] // 2\n",
    "ry_dc: dict[int, int] = dict(zip(nian_nr, ry_nr))\n",
    "print(f'{len(ry_dc)} runs')"
   ]
  },
  {
   "cell_type": "code",
   "execution_count": 74,
   "metadata": {},
   "outputs": [
    {
     "name": "stdout",
     "output_type": "stream",
     "text": [
      "7500 bytes\n"
     ]
    }
   ],
   "source": [
    "BIT_NR, IPB_NR = 4, 2\n",
    "IPL_NR: int = IPB_NR * BPL\n",
    "cnt_nr_va: int = (MAX - MIN + 1) + (MIN - MAX - 1) % IPL_NR\n",
    "ry_nr_bt: list[int] = []\n",
    "for i in range(0, cnt_nr_va, IPB_NR):\n",
    "    bt: int = 0\n",
    "    for j in range(IPB_NR):\n",
    "        n: int = MIN + i + j\n",
    "        bt |= ry_dc.get(n, 13) << (j * BIT_NR)\n",
    "    ry_nr_bt.append(bt)\n",
    "ry_nr_np: np.ndarray = np.array(ry_nr_bt, dtype=np.uint8)\n",
    "ry_nr_np = ry_nr_np.reshape((-1, BPL))\n",
    "ry_nr_ln: list[list[int]] = ry_nr_np.tolist()\n",
    "print(f'{len(ry_nr_bt)} bytes')"
   ]
  },
  {
   "cell_type": "markdown",
   "metadata": {},
   "source": [
    "#### 1.1.2. `nian` to `cyue`"
   ]
  },
  {
   "cell_type": "code",
   "execution_count": 75,
   "metadata": {},
   "outputs": [
    {
     "name": "stdout",
     "output_type": "stream",
     "text": [
      "cyue = 12.368273905932467 * (nian - -5000) + -86206.92050499133\n"
     ]
    }
   ],
   "source": [
    "DEG_NY: int = 1\n",
    "va_ny: pd.Series = df_lu['ryue'] == 2\n",
    "nian_ny: pd.Series = df_lu['nian'][va_ny]\n",
    "expl_ny: pd.Series = nian_ny - MIN\n",
    "dp01_ny: pd.Series = df_lu['cyue'][va_ny]\n",
    "coef_ny: np.ndarray = np.polyfit(x=expl_ny, y=dp01_ny, deg=DEG_NY)\n",
    "pred_ny: np.ndarray = np.polyval(p=coef_ny, x=expl_ny)\n",
    "c1_ny, c0_ny = tp.cast(list[float], coef_ny.tolist())\n",
    "print(f'cyue = {c1_ny} * (nian - {MIN}) + {c0_ny}')"
   ]
  },
  {
   "cell_type": "code",
   "execution_count": 76,
   "metadata": {},
   "outputs": [
    {
     "name": "stdout",
     "output_type": "stream",
     "text": [
      "12 0.3682739059324671 -86207 0.07949500867107417\n"
     ]
    }
   ],
   "source": [
    "c1i_ny, c1f_ny = int_frac(c1_ny)\n",
    "c0i_ny, c0f_ny = int_frac(c0_ny)\n",
    "print(c1i_ny, c1f_ny, c0i_ny, c0f_ny)"
   ]
  },
  {
   "cell_type": "code",
   "execution_count": 77,
   "metadata": {},
   "outputs": [
    {
     "name": "stdout",
     "output_type": "stream",
     "text": [
      "cyue = 12 * nian + -26207 + (12067 * nian + 60337604 >> 15)\n",
      "resd in range(0, 2)\n"
     ]
    }
   ],
   "source": [
    "BIT_NY, IPB_NY = 1, 8\n",
    "for bits_ny in range(64 // DEG_NY):\n",
    "    c0ib_ny: int = c0i_ny\n",
    "    c1bi_ny, _ = int_frac(c1f_ny * (1 << bits_ny))\n",
    "    c0bi_ny, _ = int_frac(c0f_ny * (1 << bits_ny))\n",
    "    pred_ny: pd.Series = c1i_ny * expl_ny + c0i_ny\n",
    "    bias_ny: pd.Series = c1bi_ny * expl_ny + c0bi_ny\n",
    "    if (bias_ny_min := bias_ny.min()) < 0:\n",
    "        bb_ny: int = bias_ny_min // (1 << bits_ny)\n",
    "        c0ib_ny += bb_ny\n",
    "        c0bi_ny -= bb_ny * (1 << bits_ny)\n",
    "        pred_ny: pd.Series = c1i_ny * expl_ny + c0ib_ny\n",
    "        bias_ny: pd.Series = c1bi_ny * expl_ny + c0bi_ny\n",
    "    pred_ny += bias_ny // (1 << bits_ny)\n",
    "    res_ny: pd.Series = dp01_ny - pred_ny\n",
    "    if res_ny.max() - res_ny.min() < (1 << BIT_NY):\n",
    "        c0ib_ny += res_ny.min() - c1i_ny * MIN\n",
    "        c0bi_ny -= c1bi_ny * MIN\n",
    "        res_ny -= res_ny.min()\n",
    "        print(f'cyue = {c1i_ny} * nian + {c0ib_ny}', end=' + ')\n",
    "        print(f'({c1bi_ny} * nian + {c0bi_ny} >> {bits_ny})')\n",
    "        print(f'resd in {range(res_ny.min(), res_ny.max() + 1)}')\n",
    "        break\n",
    "else:\n",
    "    raise ValueError('bad idea, residuals too wide')"
   ]
  },
  {
   "cell_type": "code",
   "execution_count": 78,
   "metadata": {},
   "outputs": [
    {
     "name": "stdout",
     "output_type": "stream",
     "text": [
      "1884 bytes\n"
     ]
    }
   ],
   "source": [
    "IPL_NY: int = IPB_NY * BPL\n",
    "va_ny: pd.Series = nian_ny.between(MIN, MAX)\n",
    "cnt_ny_va: int = va_ny.sum() + 1 + (-(va_ny.sum() + 1) % IPL_NY)\n",
    "res_ny_va: pd.Series = res_ny[nian_ny >= MIN].iloc[:cnt_ny_va]\n",
    "res_ny_bt: list[int] = []\n",
    "for i in range(0, len(res_ny_va), IPB_NY):\n",
    "    bt: int = 0\n",
    "    for j, r in enumerate(res_ny_va.iloc[i:i+IPB_NY]):\n",
    "        bt |= r << (j * BIT_NY)\n",
    "    res_ny_bt.append(bt)\n",
    "res_ny_np: np.ndarray = np.array(res_ny_bt, dtype=np.uint8)\n",
    "res_ny_np = res_ny_np.reshape((-1, BPL))\n",
    "res_ny_ln: list[list[int]] = res_ny_np.tolist()\n",
    "print(f'{len(res_ny_bt)} bytes')"
   ]
  },
  {
   "cell_type": "markdown",
   "metadata": {},
   "source": [
    "#### 1.1.3. `cyue` to uday"
   ]
  },
  {
   "cell_type": "code",
   "execution_count": 79,
   "metadata": {},
   "outputs": [
    {
     "name": "stdout",
     "output_type": "stream",
     "text": [
      "uday = 29.53058513341781 * cyue + 35.7110938177826\n"
     ]
    }
   ],
   "source": [
    "DEG_YD: int = 1\n",
    "coef_yd: np.ndarray = np.polyfit(x=cyue, y=uday, deg=DEG_YD)\n",
    "c1_yd, c0_yd = tp.cast(list[float], coef_yd.tolist())\n",
    "print(f'uday = {c1_yd} * cyue + {c0_yd}')"
   ]
  },
  {
   "cell_type": "code",
   "execution_count": 80,
   "metadata": {},
   "outputs": [
    {
     "name": "stdout",
     "output_type": "stream",
     "text": [
      "29 0.5305851334178087 35 0.7110938177825972\n"
     ]
    }
   ],
   "source": [
    "c1i_yd, c1f_yd = int_frac(c1_yd)\n",
    "c0i_yd, c0f_yd = int_frac(c0_yd)\n",
    "print(c1i_yd, c1f_yd, c0i_yd, c0f_yd)"
   ]
  },
  {
   "cell_type": "code",
   "execution_count": 81,
   "metadata": {},
   "outputs": [
    {
     "name": "stdout",
     "output_type": "stream",
     "text": [
      "uday = 29 * cyue + -45707 + (278179 * cyue + 23981830225 >> 19)\n",
      "resd in range(0, 4)\n"
     ]
    }
   ],
   "source": [
    "BIT_YD, IPB_YD = 2, 4\n",
    "for bits_yd in range(64 // DEG_YD):\n",
    "    c0ib_yd: int = c0i_yd\n",
    "    c1bi_yd, _ = int_frac(c1f_yd * (1 << bits_yd))\n",
    "    c0bi_yd, _ = int_frac(c0f_yd * (1 << bits_yd))\n",
    "    pred_yd: pd.Series = c1i_yd * cyue + c0i_yd\n",
    "    bias_yd: pd.Series = c1bi_yd * cyue + c0bi_yd\n",
    "    if (bias_yd_min := bias_yd.min()) < 0:\n",
    "        bb_yd: int = bias_yd_min // (1 << bits_yd)\n",
    "        c0ib_yd += bb_yd\n",
    "        c0bi_yd -= bb_yd * (1 << bits_yd)\n",
    "        pred_yd = c1i_yd * cyue + c0ib_yd\n",
    "        bias_yd = c1bi_yd * cyue + c0bi_yd\n",
    "    pred_yd += bias_yd // (1 << bits_yd)\n",
    "    res_yd: pd.Series = uday - pred_yd\n",
    "    if res_yd.max() - res_yd.min() < 1 << BIT_YD:\n",
    "        c0ib_yd += res_yd.min()\n",
    "        res_yd -= res_yd.min()\n",
    "        print(f'uday = {c1i_yd} * cyue + {c0ib_yd}', end=' + ')\n",
    "        print(f'({c1bi_yd} * cyue + {c0bi_yd} >> {bits_yd})')\n",
    "        print(f'resd in {range(res_yd.min(), res_yd.max() + 1)}')\n",
    "        break\n",
    "else:\n",
    "    raise ValueError('bad idea, residuals too wide')"
   ]
  },
  {
   "cell_type": "code",
   "execution_count": 82,
   "metadata": {},
   "outputs": [
    {
     "name": "stdout",
     "output_type": "stream",
     "text": [
      "46392 bytes\n"
     ]
    }
   ],
   "source": [
    "IPL_YD: int = IPB_YD * BPL\n",
    "cnt_yd_va: int = va_lu.sum() + 1 + (-(va_lu.sum() + 1) % IPL_YD)\n",
    "va_yd: pd.Series = df_lu['nian'] >= MIN\n",
    "res_yd_va: pd.Series = res_yd[va_yd].iloc[:cnt_yd_va]\n",
    "res_yd_bt: list[int] = []\n",
    "for i in range(0, len(res_yd_va), IPB_YD):\n",
    "    bt: int = 0\n",
    "    for j, r in enumerate(res_yd_va.iloc[i:i+IPB_YD]):\n",
    "        bt |= r << (j * BIT_YD)\n",
    "    res_yd_bt.append(bt)\n",
    "res_yd_np: np.ndarray = np.array(res_yd_bt, dtype=np.uint8)\n",
    "res_yd_np = res_yd_np.reshape((-1, BPL))\n",
    "res_yd_ln: list[list[int]] = res_yd_np.tolist()\n",
    "print(f'{len(res_yd_bt)} bytes')"
   ]
  },
  {
   "cell_type": "markdown",
   "metadata": {},
   "source": [
    "### 1.2. G2N: uday to `cyue` to (`nian`, `ryue`)"
   ]
  },
  {
   "cell_type": "markdown",
   "metadata": {},
   "source": [
    "#### 1.2.1. uday to `cyue`"
   ]
  },
  {
   "cell_type": "code",
   "execution_count": 83,
   "metadata": {},
   "outputs": [
    {
     "name": "stdout",
     "output_type": "stream",
     "text": [
      "cyue = 0.03386319625845294 * cday + -0.7092917774042613\n"
     ]
    }
   ],
   "source": [
    "DEG_DY: int = 1\n",
    "coef_dy: np.ndarray = np.polyfit(x=uday, y=cyue, deg=DEG_DY)\n",
    "c1_dy, c0_dy = tp.cast(list[float], coef_dy.tolist())\n",
    "c0_dy += 0.5 # it is midpoint that is to be predicted\n",
    "print(f'cyue = {c1_dy} * cday + {c0_dy}')"
   ]
  },
  {
   "cell_type": "code",
   "execution_count": 84,
   "metadata": {},
   "outputs": [
    {
     "name": "stdout",
     "output_type": "stream",
     "text": [
      "0 0.03386319625845294 -1 0.2907082225957387\n"
     ]
    }
   ],
   "source": [
    "c1i_dy, c1f_dy = int_frac(c1_dy)\n",
    "c0i_dy, c0f_dy = int_frac(c0_dy)\n",
    "print(c1i_dy, c1f_dy, c0i_dy, c0f_dy)"
   ]
  },
  {
   "cell_type": "code",
   "execution_count": 85,
   "metadata": {},
   "outputs": [
    {
     "name": "stdout",
     "output_type": "stream",
     "text": [
      "cyue = 0 * uday + -86209 + (8877 * uday + 22598986159 >> 18)\n"
     ]
    }
   ],
   "source": [
    "for bits_dy in range(64 // DEG_DY):\n",
    "    c0ib_dy: int = c0i_dy\n",
    "    c1bi_dy, _ = int_frac(c1f_dy * (1 << bits_dy))\n",
    "    c0bi_dy, _ = int_frac(c0f_dy * (1 << bits_dy))\n",
    "    pred_dy: pd.Series = c1i_dy * uday + c0ib_dy\n",
    "    bias_dy: pd.Series = c1bi_dy * uday + c0bi_dy\n",
    "    if (bias_dy_min := bias_dy.min()) < 0:\n",
    "        bb_dy: int = bias_dy_min // (1 << bits_dy)\n",
    "        c0ib_dy += bb_dy\n",
    "        c0bi_dy -= bb_dy * (1 << bits_dy)\n",
    "        pred_dy = c1i_dy * uday + c0ib_dy\n",
    "        bias_dy = c1bi_dy * uday + c0bi_dy\n",
    "    pred_dy += bias_dy // (1 << bits_dy)\n",
    "    if np.all(pred_dy == cyue):\n",
    "        print(f'cyue = {c1i_dy} * uday + {c0ib_dy}', end=' + ')\n",
    "        print(f'({c1bi_dy} * uday + {c0bi_dy} >> {bits_dy})')\n",
    "        break\n",
    "else:\n",
    "    raise ValueError('bad idea, residuals too wide')"
   ]
  },
  {
   "cell_type": "markdown",
   "metadata": {},
   "source": [
    "#### 1.2.2. `cyue` to `nian`"
   ]
  },
  {
   "cell_type": "code",
   "execution_count": 86,
   "metadata": {},
   "outputs": [
    {
     "name": "stdout",
     "output_type": "stream",
     "text": [
      "nian = 0.0808520257214669 * cyue + 1970.5041542503538\n"
     ]
    }
   ],
   "source": [
    "DEG_YN: int = 1\n",
    "cyue_yn: pd.Series = df_lu['cyue'][df_lu['ryue'] == 2]\n",
    "nian_yn: pd.Series = df_lu['nian'][df_lu['ryue'] == 2]\n",
    "coef_yn: np.ndarray = np.polyfit(x=cyue_yn, y=nian_yn, deg=DEG_YN)\n",
    "c1_yn, c0_yn = tp.cast(list[float], coef_yn.tolist())\n",
    "c0_yn += 0.5 # similarly, midpoints are considered\n",
    "print(f'nian = {c1_yn} * cyue + {c0_yn}')"
   ]
  },
  {
   "cell_type": "code",
   "execution_count": 87,
   "metadata": {},
   "outputs": [
    {
     "name": "stdout",
     "output_type": "stream",
     "text": [
      "0 0.0808520257214669 1970 0.5041542503538494\n"
     ]
    }
   ],
   "source": [
    "c1i_yn, c1f_yn = int_frac(c1_yn)\n",
    "c0i_yn, c0f_yn = int_frac(c0_yn)\n",
    "print(c1i_yn, c1f_yn, c0i_yn, c0f_yn)"
   ]
  },
  {
   "cell_type": "code",
   "execution_count": 88,
   "metadata": {},
   "outputs": [
    {
     "name": "stdout",
     "output_type": "stream",
     "text": [
      "nian = 0 * cyue + -5000 + (10597 * cyue + 913637920 >> 17)\n"
     ]
    }
   ],
   "source": [
    "for bits_yn in range(64 // DEG_YN):\n",
    "    c0ib_yn: int = c0i_yn\n",
    "    c1bi_yn, _ = int_frac(c1f_yn * (1 << bits_yn))\n",
    "    c0bi_yn, _ = int_frac(c0f_yn * (1 << bits_yn))\n",
    "    pred_yn: pd.Series = c1i_yn * cyue_yn + c0ib_yn\n",
    "    bias_yn: pd.Series = c1bi_yn * cyue_yn + c0bi_yn\n",
    "    if (bias_yn_min := bias_yn.min()) < 0:\n",
    "        bb_yn: int = bias_yn_min // (1 << bits_yn)\n",
    "        c0ib_yn += bb_yn\n",
    "        c0bi_yn -= bb_yn * (1 << bits_yn)\n",
    "        pred_yn = c1i_yn * cyue_yn + c0ib_yn\n",
    "        bias_yn = c1bi_yn * cyue_yn + c0bi_yn\n",
    "    pred_yn += bias_yn // (1 << bits_yn)\n",
    "    if np.all(pred_yn == nian_yn):\n",
    "        print(f'nian = {c1i_yn} * cyue + {c0ib_yn}', end=' + ')\n",
    "        print(f'({c1bi_yn} * cyue + {c0bi_yn} >> {bits_yn})')\n",
    "        break\n",
    "else:\n",
    "    raise ValueError('bad idea, residuals too wide')"
   ]
  }
 ],
 "metadata": {
  "kernelspec": {
   "display_name": "Nongli",
   "language": "python",
   "name": "python3"
  },
  "language_info": {
   "codemirror_mode": {
    "name": "ipython",
    "version": 3
   },
   "file_extension": ".py",
   "mimetype": "text/x-python",
   "name": "python",
   "nbconvert_exporter": "python",
   "pygments_lexer": "ipython3",
   "version": "3.12.8"
  }
 },
 "nbformat": 4,
 "nbformat_minor": 2
}
